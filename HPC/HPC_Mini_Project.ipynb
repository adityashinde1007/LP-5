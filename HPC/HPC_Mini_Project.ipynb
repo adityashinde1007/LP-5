{
 "cells": [
  {
   "cell_type": "markdown",
   "metadata": {
    "id": "DVe3cZ1aFCLj"
   },
   "source": [
    "\n",
    "\n",
    "```\n",
    "HUFFMAN ENCODING USING GPU\n",
    "```\n",
    "\n"
   ]
  },
  {
   "cell_type": "code",
   "execution_count": 3,
   "metadata": {
    "colab": {
     "base_uri": "https://localhost:8080/"
    },
    "id": "t1pkjgSDnrfI",
    "outputId": "e6cb8cb5-6214-4542-bf38-05f4899607ca"
   },
   "outputs": [
    {
     "name": "stdout",
     "output_type": "stream",
     "text": [
      "Collecting pycuda\n",
      "  Using cached pycuda-2022.2.2.tar.gz (1.7 MB)\n",
      "  Installing build dependencies: started\n",
      "  Installing build dependencies: still running...\n",
      "  Installing build dependencies: finished with status 'done'\n",
      "  Getting requirements to build wheel: started\n",
      "  Getting requirements to build wheel: finished with status 'done'\n",
      "    Preparing wheel metadata: started\n",
      "    Preparing wheel metadata: finished with status 'done'\n",
      "Collecting pytools>=2011.2\n",
      "  Downloading pytools-2022.1.14.tar.gz (74 kB)\n",
      "Collecting mako\n",
      "  Downloading Mako-1.2.4-py3-none-any.whl (78 kB)\n",
      "Requirement already satisfied: appdirs>=1.4.0 in c:\\users\\aditya\\anaconda3\\lib\\site-packages (from pycuda) (1.4.4)\n",
      "Collecting platformdirs>=2.2.0\n",
      "  Downloading platformdirs-3.5.1-py3-none-any.whl (15 kB)\n"
     ]
    },
    {
     "name": "stderr",
     "output_type": "stream",
     "text": [
      "ERROR: Exception:\n",
      "Traceback (most recent call last):\n",
      "  File \"C:\\Users\\ADITYA\\anaconda3\\lib\\site-packages\\pip\\_vendor\\resolvelib\\resolvers.py\", line 171, in _merge_into_criterion\n",
      "    crit = self.state.criteria[name]\n",
      "KeyError: 'platformdirs'\n",
      "\n",
      "During handling of the above exception, another exception occurred:\n",
      "\n",
      "Traceback (most recent call last):\n",
      "  File \"C:\\Users\\ADITYA\\anaconda3\\lib\\site-packages\\pip\\_vendor\\urllib3\\response.py\", line 438, in _error_catcher\n",
      "    yield\n",
      "  File \"C:\\Users\\ADITYA\\anaconda3\\lib\\site-packages\\pip\\_vendor\\urllib3\\response.py\", line 519, in read\n",
      "    data = self._fp.read(amt) if not fp_closed else b\"\"\n",
      "  File \"C:\\Users\\ADITYA\\anaconda3\\lib\\site-packages\\pip\\_vendor\\cachecontrol\\filewrapper.py\", line 62, in read\n",
      "    data = self.__fp.read(amt)\n",
      "  File \"C:\\Users\\ADITYA\\anaconda3\\lib\\http\\client.py\", line 458, in read\n",
      "    n = self.readinto(b)\n",
      "  File \"C:\\Users\\ADITYA\\anaconda3\\lib\\http\\client.py\", line 502, in readinto\n",
      "    n = self.fp.readinto(b)\n",
      "  File \"C:\\Users\\ADITYA\\anaconda3\\lib\\socket.py\", line 669, in readinto\n",
      "    return self._sock.recv_into(b)\n",
      "  File \"C:\\Users\\ADITYA\\anaconda3\\lib\\ssl.py\", line 1241, in recv_into\n",
      "    return self.read(nbytes, buffer)\n",
      "  File \"C:\\Users\\ADITYA\\anaconda3\\lib\\ssl.py\", line 1099, in read\n",
      "    return self._sslobj.read(len, buffer)\n",
      "socket.timeout: The read operation timed out\n",
      "\n",
      "During handling of the above exception, another exception occurred:\n",
      "\n",
      "Traceback (most recent call last):\n",
      "  File \"C:\\Users\\ADITYA\\anaconda3\\lib\\site-packages\\pip\\_internal\\cli\\base_command.py\", line 189, in _main\n",
      "    status = self.run(options, args)\n",
      "  File \"C:\\Users\\ADITYA\\anaconda3\\lib\\site-packages\\pip\\_internal\\cli\\req_command.py\", line 178, in wrapper\n",
      "    return func(self, options, args)\n",
      "  File \"C:\\Users\\ADITYA\\anaconda3\\lib\\site-packages\\pip\\_internal\\commands\\install.py\", line 316, in run\n",
      "    requirement_set = resolver.resolve(\n",
      "  File \"C:\\Users\\ADITYA\\anaconda3\\lib\\site-packages\\pip\\_internal\\resolution\\resolvelib\\resolver.py\", line 121, in resolve\n",
      "    self._result = resolver.resolve(\n",
      "  File \"C:\\Users\\ADITYA\\anaconda3\\lib\\site-packages\\pip\\_vendor\\resolvelib\\resolvers.py\", line 453, in resolve\n",
      "    state = resolution.resolve(requirements, max_rounds=max_rounds)\n",
      "  File \"C:\\Users\\ADITYA\\anaconda3\\lib\\site-packages\\pip\\_vendor\\resolvelib\\resolvers.py\", line 347, in resolve\n",
      "    failure_causes = self._attempt_to_pin_criterion(name, criterion)\n",
      "  File \"C:\\Users\\ADITYA\\anaconda3\\lib\\site-packages\\pip\\_vendor\\resolvelib\\resolvers.py\", line 207, in _attempt_to_pin_criterion\n",
      "    criteria = self._get_criteria_to_update(candidate)\n",
      "  File \"C:\\Users\\ADITYA\\anaconda3\\lib\\site-packages\\pip\\_vendor\\resolvelib\\resolvers.py\", line 199, in _get_criteria_to_update\n",
      "    name, crit = self._merge_into_criterion(r, parent=candidate)\n",
      "  File \"C:\\Users\\ADITYA\\anaconda3\\lib\\site-packages\\pip\\_vendor\\resolvelib\\resolvers.py\", line 173, in _merge_into_criterion\n",
      "    crit = Criterion.from_requirement(self._p, requirement, parent)\n",
      "  File \"C:\\Users\\ADITYA\\anaconda3\\lib\\site-packages\\pip\\_vendor\\resolvelib\\resolvers.py\", line 82, in from_requirement\n",
      "    if not cands:\n",
      "  File \"C:\\Users\\ADITYA\\anaconda3\\lib\\site-packages\\pip\\_vendor\\resolvelib\\structs.py\", line 124, in __bool__\n",
      "    return bool(self._sequence)\n",
      "  File \"C:\\Users\\ADITYA\\anaconda3\\lib\\site-packages\\pip\\_internal\\resolution\\resolvelib\\found_candidates.py\", line 143, in __bool__\n",
      "    return any(self)\n",
      "  File \"C:\\Users\\ADITYA\\anaconda3\\lib\\site-packages\\pip\\_internal\\resolution\\resolvelib\\found_candidates.py\", line 38, in _iter_built\n",
      "    candidate = func()\n",
      "  File \"C:\\Users\\ADITYA\\anaconda3\\lib\\site-packages\\pip\\_internal\\resolution\\resolvelib\\factory.py\", line 167, in _make_candidate_from_link\n",
      "    self._link_candidate_cache[link] = LinkCandidate(\n",
      "  File \"C:\\Users\\ADITYA\\anaconda3\\lib\\site-packages\\pip\\_internal\\resolution\\resolvelib\\candidates.py\", line 300, in __init__\n",
      "    super().__init__(\n",
      "  File \"C:\\Users\\ADITYA\\anaconda3\\lib\\site-packages\\pip\\_internal\\resolution\\resolvelib\\candidates.py\", line 144, in __init__\n",
      "    self.dist = self._prepare()\n",
      "  File \"C:\\Users\\ADITYA\\anaconda3\\lib\\site-packages\\pip\\_internal\\resolution\\resolvelib\\candidates.py\", line 226, in _prepare\n",
      "    dist = self._prepare_distribution()\n",
      "  File \"C:\\Users\\ADITYA\\anaconda3\\lib\\site-packages\\pip\\_internal\\resolution\\resolvelib\\candidates.py\", line 311, in _prepare_distribution\n",
      "    return self._factory.preparer.prepare_linked_requirement(\n",
      "  File \"C:\\Users\\ADITYA\\anaconda3\\lib\\site-packages\\pip\\_internal\\operations\\prepare.py\", line 457, in prepare_linked_requirement\n",
      "    return self._prepare_linked_requirement(req, parallel_builds)\n",
      "  File \"C:\\Users\\ADITYA\\anaconda3\\lib\\site-packages\\pip\\_internal\\operations\\prepare.py\", line 480, in _prepare_linked_requirement\n",
      "    local_file = unpack_url(\n",
      "  File \"C:\\Users\\ADITYA\\anaconda3\\lib\\site-packages\\pip\\_internal\\operations\\prepare.py\", line 230, in unpack_url\n",
      "    file = get_http_url(\n",
      "  File \"C:\\Users\\ADITYA\\anaconda3\\lib\\site-packages\\pip\\_internal\\operations\\prepare.py\", line 108, in get_http_url\n",
      "    from_path, content_type = download(link, temp_dir.path)\n",
      "  File \"C:\\Users\\ADITYA\\anaconda3\\lib\\site-packages\\pip\\_internal\\network\\download.py\", line 163, in __call__\n",
      "    for chunk in chunks:\n",
      "  File \"C:\\Users\\ADITYA\\anaconda3\\lib\\site-packages\\pip\\_internal\\network\\utils.py\", line 64, in response_chunks\n",
      "    for chunk in response.raw.stream(\n",
      "  File \"C:\\Users\\ADITYA\\anaconda3\\lib\\site-packages\\pip\\_vendor\\urllib3\\response.py\", line 576, in stream\n",
      "    data = self.read(amt=amt, decode_content=decode_content)\n",
      "  File \"C:\\Users\\ADITYA\\anaconda3\\lib\\site-packages\\pip\\_vendor\\urllib3\\response.py\", line 541, in read\n",
      "    raise IncompleteRead(self._fp_bytes_read, self.length_remaining)\n",
      "  File \"C:\\Users\\ADITYA\\anaconda3\\lib\\contextlib.py\", line 131, in __exit__\n",
      "    self.gen.throw(type, value, traceback)\n",
      "  File \"C:\\Users\\ADITYA\\anaconda3\\lib\\site-packages\\pip\\_vendor\\urllib3\\response.py\", line 443, in _error_catcher\n",
      "    raise ReadTimeoutError(self._pool, None, \"Read timed out.\")\n",
      "pip._vendor.urllib3.exceptions.ReadTimeoutError: HTTPSConnectionPool(host='files.pythonhosted.org', port=443): Read timed out.\n"
     ]
    }
   ],
   "source": [
    "!pip install pycuda"
   ]
  },
  {
   "cell_type": "code",
   "execution_count": 4,
   "metadata": {
    "id": "FJ_SYS8WnWvm"
   },
   "outputs": [
    {
     "ename": "ModuleNotFoundError",
     "evalue": "No module named 'pycuda'",
     "output_type": "error",
     "traceback": [
      "\u001b[1;31m---------------------------------------------------------------------------\u001b[0m",
      "\u001b[1;31mModuleNotFoundError\u001b[0m                       Traceback (most recent call last)",
      "\u001b[1;32m<ipython-input-4-2c8066545c8a>\u001b[0m in \u001b[0;36m<module>\u001b[1;34m\u001b[0m\n\u001b[1;32m----> 1\u001b[1;33m \u001b[1;32mimport\u001b[0m \u001b[0mpycuda\u001b[0m\u001b[1;33m.\u001b[0m\u001b[0mautoinit\u001b[0m\u001b[1;33m\u001b[0m\u001b[1;33m\u001b[0m\u001b[0m\n\u001b[0m\u001b[0;32m      2\u001b[0m \u001b[1;32mimport\u001b[0m \u001b[0mpycuda\u001b[0m\u001b[1;33m.\u001b[0m\u001b[0mdriver\u001b[0m \u001b[1;32mas\u001b[0m \u001b[0mdrv\u001b[0m\u001b[1;33m\u001b[0m\u001b[1;33m\u001b[0m\u001b[0m\n\u001b[0;32m      3\u001b[0m \u001b[1;32mimport\u001b[0m \u001b[0mnumpy\u001b[0m \u001b[1;32mas\u001b[0m \u001b[0mnp\u001b[0m\u001b[1;33m\u001b[0m\u001b[1;33m\u001b[0m\u001b[0m\n\u001b[0;32m      4\u001b[0m \u001b[1;32mimport\u001b[0m \u001b[0mheapq\u001b[0m\u001b[1;33m\u001b[0m\u001b[1;33m\u001b[0m\u001b[0m\n\u001b[0;32m      5\u001b[0m \u001b[1;33m\u001b[0m\u001b[0m\n",
      "\u001b[1;31mModuleNotFoundError\u001b[0m: No module named 'pycuda'"
     ]
    }
   ],
   "source": [
    "import pycuda.autoinit\n",
    "import pycuda.driver as drv\n",
    "import numpy as np\n",
    "import heapq\n",
    "\n",
    "def huffman_encoding_gpu(text):\n",
    "    # Convert text to a list of characters\n",
    "    chars = list(text)\n",
    "    # Count the frequency of each character\n",
    "    freq_dict = {}\n",
    "    for char in chars:\n",
    "        freq_dict[char] = freq_dict.get(char, 0) + 1\n",
    "    # Build the Huffman tree using a heap\n",
    "    heap = [[freq, [char, \"\"]] for char, freq in freq_dict.items()]\n",
    "    heapq.heapify(heap)\n",
    "    while len(heap) > 1:\n",
    "        low_freq = heapq.heappop(heap)\n",
    "        high_freq = heapq.heappop(heap)\n",
    "        for pair in low_freq[1:]:\n",
    "            pair[1] = '0' + pair[1]\n",
    "        for pair in high_freq[1:]:\n",
    "            pair[1] = '1' + pair[1]\n",
    "        heapq.heappush(heap, [low_freq[0] + high_freq[0]] + low_freq[1:] + high_freq[1:])\n",
    "    huffman_dict = dict(heapq.heappop(heap)[1:])\n",
    "    # Convert the text to a binary string using the Huffman dictionary\n",
    "    binary_str = ''.join([huffman_dict[char] for char in chars])\n",
    "    # Convert the binary string to a numpy array\n",
    "    binary_arr = np.array(list(binary_str), dtype=np.uint8)\n",
    "    # Create a CUDA buffer for the binary array\n",
    "    binary_buf = drv.mem_alloc(binary_arr.size * binary_arr.dtype.itemsize)\n",
    "    # Copy the binary array to the CUDA buffer\n",
    "    drv.memcpy_htod(binary_buf, binary_arr)\n",
    "    # Return the CUDA buffer and the Huffman dictionary\n",
    "    return binary_buf,huffman_dict"
   ]
  },
  {
   "cell_type": "code",
   "execution_count": null,
   "metadata": {
    "colab": {
     "base_uri": "https://localhost:8080/"
    },
    "id": "Wz1AdItcvIcu",
    "outputId": "ab6d108e-889b-4045-c795-e60ec89fb8e5"
   },
   "outputs": [],
   "source": [
    "\n",
    "# Read the input text file\n",
    "with open('/sample-2mb-text-file.txt', 'r') as file:\n",
    "    text = file.read()\n",
    "\n",
    "# Convert the text to a string\n",
    "text = str(text)\n",
    "\n",
    "binary_arr, huffman_dict = huffman_encoding_gpu(text)\n",
    "print(binary_arr)\n",
    "print(huffman_dict)"
   ]
  },
  {
   "cell_type": "code",
   "execution_count": null,
   "metadata": {
    "colab": {
     "base_uri": "https://localhost:8080/"
    },
    "id": "c-PICdd1u_zF",
    "outputId": "71443ed1-2b14-4540-ebe3-4c61f1502de8"
   },
   "outputs": [],
   "source": [
    "import time\n",
    "import cupy as cp\n",
    "\n",
    "# Define your Huffman encoding functions here...\n",
    "\n",
    "# Read the input text file\n",
    "with open('/sample-2mb-text-file.txt', 'r') as file:\n",
    "    text = file.read()\n",
    "\n",
    "# Convert the text to a string\n",
    "text = str(text)\n",
    "\n",
    "# Perform Huffman encoding on the GPU\n",
    "start_time = time.time()\n",
    "binary_string = huffman_encoding_gpu(text)\n",
    "end_time = time.time()\n",
    "\n",
    "\n",
    "\n",
    "# Print the execution time\n",
    "print(f\"Execution time for Huffman Encoding using GPU: {end_time - start_time} seconds\")\n"
   ]
  },
  {
   "cell_type": "code",
   "execution_count": null,
   "metadata": {
    "colab": {
     "base_uri": "https://localhost:8080/"
    },
    "id": "FRy-dlhe2FN_",
    "outputId": "417a31c8-87cf-4d10-8441-c4883a48a70f"
   },
   "outputs": [],
   "source": [
    "globals().clear()"
   ]
  },
  {
   "cell_type": "markdown",
   "metadata": {
    "id": "6fyazBzzF4Ys"
   },
   "source": [
    "HUFFMAN ENCODING USING CPU"
   ]
  },
  {
   "cell_type": "code",
   "execution_count": null,
   "metadata": {
    "id": "xxsN1h4X2Pwk"
   },
   "outputs": [],
   "source": [
    "import heapq\n",
    "\n",
    "def huffman_encoding(text):\n",
    "    # Convert text to a list of characters\n",
    "    chars = list(text)\n",
    "    # Count the frequency of each character\n",
    "    freq_dict = {}\n",
    "    for char in chars:\n",
    "        freq_dict[char] = freq_dict.get(char, 0) + 1\n",
    "    # Build the Huffman tree using a heap\n",
    "    heap = [[freq, [char, \"\"]] for char, freq in freq_dict.items()]\n",
    "    heapq.heapify(heap)\n",
    "    while len(heap) > 1:\n",
    "        low_freq = heapq.heappop(heap)\n",
    "        high_freq = heapq.heappop(heap)\n",
    "        for pair in low_freq[1:]:\n",
    "            pair[1] = '0' + pair[1]\n",
    "        for pair in high_freq[1:]:\n",
    "            pair[1] = '1' + pair[1]\n",
    "        heapq.heappush(heap, [low_freq[0] + high_freq[0]] + low_freq[1:] + high_freq[1:])\n",
    "    huffman_dict = dict(heapq.heappop(heap)[1:])\n",
    "    # Convert the text to a binary string using the Huffman dictionary\n",
    "    binary_str = ''.join([huffman_dict[char] for char in chars])\n",
    "    # Convert the binary string to a list of bytes\n",
    "    bytes_list = []\n",
    "    while binary_str:\n",
    "        byte_str = binary_str[:8]\n",
    "        binary_str = binary_str[8:]\n",
    "        byte = int(byte_str, 2)\n",
    "        bytes_list.append(byte)\n",
    "    # Convert the bytes list to a bytes object\n",
    "    bytes_obj = bytes(bytes_list)\n",
    "    # Return the bytes object and the Huffman dictionary\n",
    "    return bytes_obj, huffman_dict\n"
   ]
  },
  {
   "cell_type": "code",
   "execution_count": null,
   "metadata": {
    "colab": {
     "base_uri": "https://localhost:8080/"
    },
    "id": "JFjhuK1i14TZ",
    "outputId": "8b95e42c-28c2-4b68-ce99-068ab5ea779c"
   },
   "outputs": [],
   "source": [
    "with open('/sample-2mb-text-file.txt', 'r') as file:\n",
    "    text = file.read()\n",
    "encoded_bytes, huffman_dict = huffman_encoding(text)\n",
    "print(encoded_bytes)\n",
    "print(huffman_dict)\n"
   ]
  },
  {
   "cell_type": "code",
   "execution_count": null,
   "metadata": {
    "colab": {
     "base_uri": "https://localhost:8080/"
    },
    "id": "F2kCCMlC2NM2",
    "outputId": "4b54e2cf-66fe-4fdc-e6fc-45ab096bf6ab"
   },
   "outputs": [],
   "source": [
    "import time\n",
    "\n",
    "# Perform Huffman encoding on the GPU\n",
    "start_time = time.time()\n",
    "binary_string = huffman_encoding(text)\n",
    "end_time = time.time()\n",
    "\n",
    "\n",
    "\n",
    "# Print the execution time\n",
    "print(f\"Execution time: {end_time - start_time} seconds\")\n"
   ]
  }
 ],
 "metadata": {
  "accelerator": "GPU",
  "colab": {
   "gpuType": "T4",
   "provenance": []
  },
  "gpuClass": "standard",
  "kernelspec": {
   "display_name": "Python 3",
   "language": "python",
   "name": "python3"
  },
  "language_info": {
   "codemirror_mode": {
    "name": "ipython",
    "version": 3
   },
   "file_extension": ".py",
   "mimetype": "text/x-python",
   "name": "python",
   "nbconvert_exporter": "python",
   "pygments_lexer": "ipython3",
   "version": "3.8.8"
  }
 },
 "nbformat": 4,
 "nbformat_minor": 1
}
