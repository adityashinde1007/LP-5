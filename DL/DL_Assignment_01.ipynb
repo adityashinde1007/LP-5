{
 "cells": [
  {
   "cell_type": "markdown",
   "metadata": {
    "papermill": {
     "duration": 0.022045,
     "end_time": "2022-08-10T01:26:28.133016",
     "exception": false,
     "start_time": "2022-08-10T01:26:28.110971",
     "status": "completed"
    },
    "tags": []
   },
   "source": [
    "### Linear regression using Deep neural network"
   ]
  },
  {
   "cell_type": "code",
   "execution_count": 1,
   "metadata": {
    "_cell_guid": "b1076dfc-b9ad-4769-8c92-a6c4dae69d19",
    "_uuid": "8f2839f25d086af736a60e9eeb907d3b93b6e0e5",
    "execution": {
     "iopub.execute_input": "2022-08-10T01:26:28.314546Z",
     "iopub.status.busy": "2022-08-10T01:26:28.314004Z",
     "iopub.status.idle": "2022-08-10T01:26:28.318108Z",
     "shell.execute_reply": "2022-08-10T01:26:28.318560Z"
    },
    "papermill": {
     "duration": 0.029676,
     "end_time": "2022-08-10T01:26:28.318711",
     "exception": false,
     "start_time": "2022-08-10T01:26:28.289035",
     "status": "completed"
    },
    "tags": []
   },
   "outputs": [],
   "source": [
    "#Importing the pandas for data processing and numpy for numerical computing\n",
    "import numpy as np\n",
    "import pandas as pd"
   ]
  },
  {
   "cell_type": "code",
   "execution_count": 2,
   "metadata": {
    "execution": {
     "iopub.execute_input": "2022-08-10T01:26:28.367999Z",
     "iopub.status.busy": "2022-08-10T01:26:28.367473Z",
     "iopub.status.idle": "2022-08-10T01:26:29.208111Z",
     "shell.execute_reply": "2022-08-10T01:26:29.207653Z"
    },
    "papermill": {
     "duration": 0.865609,
     "end_time": "2022-08-10T01:26:29.208203",
     "exception": false,
     "start_time": "2022-08-10T01:26:28.342594",
     "status": "completed"
    },
    "tags": []
   },
   "outputs": [],
   "source": [
    "# Importing the Boston Housing dataset from the sklearn\n",
    "from sklearn.datasets import load_boston\n",
    "boston = load_boston()"
   ]
  },
  {
   "cell_type": "code",
   "execution_count": 3,
   "metadata": {
    "execution": {
     "iopub.execute_input": "2022-08-10T01:26:29.255877Z",
     "iopub.status.busy": "2022-08-10T01:26:29.255216Z",
     "iopub.status.idle": "2022-08-10T01:26:29.261949Z",
     "shell.execute_reply": "2022-08-10T01:26:29.262392Z"
    },
    "papermill": {
     "duration": 0.032011,
     "end_time": "2022-08-10T01:26:29.262511",
     "exception": false,
     "start_time": "2022-08-10T01:26:29.230500",
     "status": "completed"
    },
    "tags": []
   },
   "outputs": [],
   "source": [
    "#Converting the data into pandas dataframe\n",
    "data = pd.DataFrame(boston.data)"
   ]
  },
  {
   "cell_type": "markdown",
   "metadata": {
    "papermill": {
     "duration": 0.022779,
     "end_time": "2022-08-10T01:26:29.308599",
     "exception": false,
     "start_time": "2022-08-10T01:26:29.285820",
     "status": "completed"
    },
    "tags": []
   },
   "source": [
    "### First look at the dataset"
   ]
  },
  {
   "cell_type": "code",
   "execution_count": 4,
   "metadata": {
    "execution": {
     "iopub.execute_input": "2022-08-10T01:26:29.359233Z",
     "iopub.status.busy": "2022-08-10T01:26:29.358495Z",
     "iopub.status.idle": "2022-08-10T01:26:29.380961Z",
     "shell.execute_reply": "2022-08-10T01:26:29.381461Z"
    },
    "papermill": {
     "duration": 0.04928,
     "end_time": "2022-08-10T01:26:29.381575",
     "exception": false,
     "start_time": "2022-08-10T01:26:29.332295",
     "status": "completed"
    },
    "tags": []
   },
   "outputs": [
    {
     "data": {
      "text/html": [
       "<div>\n",
       "<style scoped>\n",
       "    .dataframe tbody tr th:only-of-type {\n",
       "        vertical-align: middle;\n",
       "    }\n",
       "\n",
       "    .dataframe tbody tr th {\n",
       "        vertical-align: top;\n",
       "    }\n",
       "\n",
       "    .dataframe thead th {\n",
       "        text-align: right;\n",
       "    }\n",
       "</style>\n",
       "<table border=\"1\" class=\"dataframe\">\n",
       "  <thead>\n",
       "    <tr style=\"text-align: right;\">\n",
       "      <th></th>\n",
       "      <th>0</th>\n",
       "      <th>1</th>\n",
       "      <th>2</th>\n",
       "      <th>3</th>\n",
       "      <th>4</th>\n",
       "      <th>5</th>\n",
       "      <th>6</th>\n",
       "      <th>7</th>\n",
       "      <th>8</th>\n",
       "      <th>9</th>\n",
       "      <th>10</th>\n",
       "      <th>11</th>\n",
       "      <th>12</th>\n",
       "    </tr>\n",
       "  </thead>\n",
       "  <tbody>\n",
       "    <tr>\n",
       "      <th>0</th>\n",
       "      <td>0.00632</td>\n",
       "      <td>18.0</td>\n",
       "      <td>2.31</td>\n",
       "      <td>0.0</td>\n",
       "      <td>0.538</td>\n",
       "      <td>6.575</td>\n",
       "      <td>65.2</td>\n",
       "      <td>4.0900</td>\n",
       "      <td>1.0</td>\n",
       "      <td>296.0</td>\n",
       "      <td>15.3</td>\n",
       "      <td>396.90</td>\n",
       "      <td>4.98</td>\n",
       "    </tr>\n",
       "    <tr>\n",
       "      <th>1</th>\n",
       "      <td>0.02731</td>\n",
       "      <td>0.0</td>\n",
       "      <td>7.07</td>\n",
       "      <td>0.0</td>\n",
       "      <td>0.469</td>\n",
       "      <td>6.421</td>\n",
       "      <td>78.9</td>\n",
       "      <td>4.9671</td>\n",
       "      <td>2.0</td>\n",
       "      <td>242.0</td>\n",
       "      <td>17.8</td>\n",
       "      <td>396.90</td>\n",
       "      <td>9.14</td>\n",
       "    </tr>\n",
       "    <tr>\n",
       "      <th>2</th>\n",
       "      <td>0.02729</td>\n",
       "      <td>0.0</td>\n",
       "      <td>7.07</td>\n",
       "      <td>0.0</td>\n",
       "      <td>0.469</td>\n",
       "      <td>7.185</td>\n",
       "      <td>61.1</td>\n",
       "      <td>4.9671</td>\n",
       "      <td>2.0</td>\n",
       "      <td>242.0</td>\n",
       "      <td>17.8</td>\n",
       "      <td>392.83</td>\n",
       "      <td>4.03</td>\n",
       "    </tr>\n",
       "    <tr>\n",
       "      <th>3</th>\n",
       "      <td>0.03237</td>\n",
       "      <td>0.0</td>\n",
       "      <td>2.18</td>\n",
       "      <td>0.0</td>\n",
       "      <td>0.458</td>\n",
       "      <td>6.998</td>\n",
       "      <td>45.8</td>\n",
       "      <td>6.0622</td>\n",
       "      <td>3.0</td>\n",
       "      <td>222.0</td>\n",
       "      <td>18.7</td>\n",
       "      <td>394.63</td>\n",
       "      <td>2.94</td>\n",
       "    </tr>\n",
       "    <tr>\n",
       "      <th>4</th>\n",
       "      <td>0.06905</td>\n",
       "      <td>0.0</td>\n",
       "      <td>2.18</td>\n",
       "      <td>0.0</td>\n",
       "      <td>0.458</td>\n",
       "      <td>7.147</td>\n",
       "      <td>54.2</td>\n",
       "      <td>6.0622</td>\n",
       "      <td>3.0</td>\n",
       "      <td>222.0</td>\n",
       "      <td>18.7</td>\n",
       "      <td>396.90</td>\n",
       "      <td>5.33</td>\n",
       "    </tr>\n",
       "  </tbody>\n",
       "</table>\n",
       "</div>"
      ],
      "text/plain": [
       "        0     1     2    3      4      5     6       7    8      9     10  \\\n",
       "0  0.00632  18.0  2.31  0.0  0.538  6.575  65.2  4.0900  1.0  296.0  15.3   \n",
       "1  0.02731   0.0  7.07  0.0  0.469  6.421  78.9  4.9671  2.0  242.0  17.8   \n",
       "2  0.02729   0.0  7.07  0.0  0.469  7.185  61.1  4.9671  2.0  242.0  17.8   \n",
       "3  0.03237   0.0  2.18  0.0  0.458  6.998  45.8  6.0622  3.0  222.0  18.7   \n",
       "4  0.06905   0.0  2.18  0.0  0.458  7.147  54.2  6.0622  3.0  222.0  18.7   \n",
       "\n",
       "       11    12  \n",
       "0  396.90  4.98  \n",
       "1  396.90  9.14  \n",
       "2  392.83  4.03  \n",
       "3  394.63  2.94  \n",
       "4  396.90  5.33  "
      ]
     },
     "execution_count": 4,
     "metadata": {},
     "output_type": "execute_result"
    }
   ],
   "source": [
    "#First look at the data\n",
    "data.head()"
   ]
  },
  {
   "cell_type": "code",
   "execution_count": 5,
   "metadata": {
    "execution": {
     "iopub.execute_input": "2022-08-10T01:26:29.432711Z",
     "iopub.status.busy": "2022-08-10T01:26:29.431996Z",
     "iopub.status.idle": "2022-08-10T01:26:29.435624Z",
     "shell.execute_reply": "2022-08-10T01:26:29.436105Z"
    },
    "papermill": {
     "duration": 0.030084,
     "end_time": "2022-08-10T01:26:29.436215",
     "exception": false,
     "start_time": "2022-08-10T01:26:29.406131",
     "status": "completed"
    },
    "tags": []
   },
   "outputs": [],
   "source": [
    "#Adding the feature names to the dataframe\n",
    "data.columns = boston.feature_names"
   ]
  },
  {
   "cell_type": "code",
   "execution_count": 6,
   "metadata": {
    "execution": {
     "iopub.execute_input": "2022-08-10T01:26:29.487682Z",
     "iopub.status.busy": "2022-08-10T01:26:29.486968Z",
     "iopub.status.idle": "2022-08-10T01:26:29.495364Z",
     "shell.execute_reply": "2022-08-10T01:26:29.495757Z"
    },
    "papermill": {
     "duration": 0.036037,
     "end_time": "2022-08-10T01:26:29.495888",
     "exception": false,
     "start_time": "2022-08-10T01:26:29.459851",
     "status": "completed"
    },
    "tags": []
   },
   "outputs": [],
   "source": [
    "#Adding the target variable to the dataset\n",
    "data['PRICE'] = boston.target "
   ]
  },
  {
   "cell_type": "code",
   "execution_count": 7,
   "metadata": {
    "execution": {
     "iopub.execute_input": "2022-08-10T01:26:29.548775Z",
     "iopub.status.busy": "2022-08-10T01:26:29.548042Z",
     "iopub.status.idle": "2022-08-10T01:26:29.569138Z",
     "shell.execute_reply": "2022-08-10T01:26:29.568687Z"
    },
    "papermill": {
     "duration": 0.048496,
     "end_time": "2022-08-10T01:26:29.569236",
     "exception": false,
     "start_time": "2022-08-10T01:26:29.520740",
     "status": "completed"
    },
    "tags": []
   },
   "outputs": [
    {
     "data": {
      "text/html": [
       "<div>\n",
       "<style scoped>\n",
       "    .dataframe tbody tr th:only-of-type {\n",
       "        vertical-align: middle;\n",
       "    }\n",
       "\n",
       "    .dataframe tbody tr th {\n",
       "        vertical-align: top;\n",
       "    }\n",
       "\n",
       "    .dataframe thead th {\n",
       "        text-align: right;\n",
       "    }\n",
       "</style>\n",
       "<table border=\"1\" class=\"dataframe\">\n",
       "  <thead>\n",
       "    <tr style=\"text-align: right;\">\n",
       "      <th></th>\n",
       "      <th>CRIM</th>\n",
       "      <th>ZN</th>\n",
       "      <th>INDUS</th>\n",
       "      <th>CHAS</th>\n",
       "      <th>NOX</th>\n",
       "      <th>RM</th>\n",
       "      <th>AGE</th>\n",
       "      <th>DIS</th>\n",
       "      <th>RAD</th>\n",
       "      <th>TAX</th>\n",
       "      <th>PTRATIO</th>\n",
       "      <th>B</th>\n",
       "      <th>LSTAT</th>\n",
       "      <th>PRICE</th>\n",
       "    </tr>\n",
       "  </thead>\n",
       "  <tbody>\n",
       "    <tr>\n",
       "      <th>0</th>\n",
       "      <td>0.00632</td>\n",
       "      <td>18.0</td>\n",
       "      <td>2.31</td>\n",
       "      <td>0.0</td>\n",
       "      <td>0.538</td>\n",
       "      <td>6.575</td>\n",
       "      <td>65.2</td>\n",
       "      <td>4.0900</td>\n",
       "      <td>1.0</td>\n",
       "      <td>296.0</td>\n",
       "      <td>15.3</td>\n",
       "      <td>396.90</td>\n",
       "      <td>4.98</td>\n",
       "      <td>24.0</td>\n",
       "    </tr>\n",
       "    <tr>\n",
       "      <th>1</th>\n",
       "      <td>0.02731</td>\n",
       "      <td>0.0</td>\n",
       "      <td>7.07</td>\n",
       "      <td>0.0</td>\n",
       "      <td>0.469</td>\n",
       "      <td>6.421</td>\n",
       "      <td>78.9</td>\n",
       "      <td>4.9671</td>\n",
       "      <td>2.0</td>\n",
       "      <td>242.0</td>\n",
       "      <td>17.8</td>\n",
       "      <td>396.90</td>\n",
       "      <td>9.14</td>\n",
       "      <td>21.6</td>\n",
       "    </tr>\n",
       "    <tr>\n",
       "      <th>2</th>\n",
       "      <td>0.02729</td>\n",
       "      <td>0.0</td>\n",
       "      <td>7.07</td>\n",
       "      <td>0.0</td>\n",
       "      <td>0.469</td>\n",
       "      <td>7.185</td>\n",
       "      <td>61.1</td>\n",
       "      <td>4.9671</td>\n",
       "      <td>2.0</td>\n",
       "      <td>242.0</td>\n",
       "      <td>17.8</td>\n",
       "      <td>392.83</td>\n",
       "      <td>4.03</td>\n",
       "      <td>34.7</td>\n",
       "    </tr>\n",
       "    <tr>\n",
       "      <th>3</th>\n",
       "      <td>0.03237</td>\n",
       "      <td>0.0</td>\n",
       "      <td>2.18</td>\n",
       "      <td>0.0</td>\n",
       "      <td>0.458</td>\n",
       "      <td>6.998</td>\n",
       "      <td>45.8</td>\n",
       "      <td>6.0622</td>\n",
       "      <td>3.0</td>\n",
       "      <td>222.0</td>\n",
       "      <td>18.7</td>\n",
       "      <td>394.63</td>\n",
       "      <td>2.94</td>\n",
       "      <td>33.4</td>\n",
       "    </tr>\n",
       "    <tr>\n",
       "      <th>4</th>\n",
       "      <td>0.06905</td>\n",
       "      <td>0.0</td>\n",
       "      <td>2.18</td>\n",
       "      <td>0.0</td>\n",
       "      <td>0.458</td>\n",
       "      <td>7.147</td>\n",
       "      <td>54.2</td>\n",
       "      <td>6.0622</td>\n",
       "      <td>3.0</td>\n",
       "      <td>222.0</td>\n",
       "      <td>18.7</td>\n",
       "      <td>396.90</td>\n",
       "      <td>5.33</td>\n",
       "      <td>36.2</td>\n",
       "    </tr>\n",
       "  </tbody>\n",
       "</table>\n",
       "</div>"
      ],
      "text/plain": [
       "      CRIM    ZN  INDUS  CHAS    NOX     RM   AGE     DIS  RAD    TAX  \\\n",
       "0  0.00632  18.0   2.31   0.0  0.538  6.575  65.2  4.0900  1.0  296.0   \n",
       "1  0.02731   0.0   7.07   0.0  0.469  6.421  78.9  4.9671  2.0  242.0   \n",
       "2  0.02729   0.0   7.07   0.0  0.469  7.185  61.1  4.9671  2.0  242.0   \n",
       "3  0.03237   0.0   2.18   0.0  0.458  6.998  45.8  6.0622  3.0  222.0   \n",
       "4  0.06905   0.0   2.18   0.0  0.458  7.147  54.2  6.0622  3.0  222.0   \n",
       "\n",
       "   PTRATIO       B  LSTAT  PRICE  \n",
       "0     15.3  396.90   4.98   24.0  \n",
       "1     17.8  396.90   9.14   21.6  \n",
       "2     17.8  392.83   4.03   34.7  \n",
       "3     18.7  394.63   2.94   33.4  \n",
       "4     18.7  396.90   5.33   36.2  "
      ]
     },
     "execution_count": 7,
     "metadata": {},
     "output_type": "execute_result"
    }
   ],
   "source": [
    "#Looking at the data with names and target variable\n",
    "data.head()"
   ]
  },
  {
   "cell_type": "code",
   "execution_count": 8,
   "metadata": {
    "execution": {
     "iopub.execute_input": "2022-08-10T01:26:29.624885Z",
     "iopub.status.busy": "2022-08-10T01:26:29.624261Z",
     "iopub.status.idle": "2022-08-10T01:26:29.627062Z",
     "shell.execute_reply": "2022-08-10T01:26:29.627512Z"
    },
    "papermill": {
     "duration": 0.033075,
     "end_time": "2022-08-10T01:26:29.627638",
     "exception": false,
     "start_time": "2022-08-10T01:26:29.594563",
     "status": "completed"
    },
    "tags": []
   },
   "outputs": [
    {
     "name": "stdout",
     "output_type": "stream",
     "text": [
      "(506, 14)\n"
     ]
    }
   ],
   "source": [
    "#Shape of the data\n",
    "print(data.shape)"
   ]
  },
  {
   "cell_type": "code",
   "execution_count": 9,
   "metadata": {
    "execution": {
     "iopub.execute_input": "2022-08-10T01:26:29.684319Z",
     "iopub.status.busy": "2022-08-10T01:26:29.683627Z",
     "iopub.status.idle": "2022-08-10T01:26:29.690537Z",
     "shell.execute_reply": "2022-08-10T01:26:29.690921Z"
    },
    "papermill": {
     "duration": 0.037251,
     "end_time": "2022-08-10T01:26:29.691056",
     "exception": false,
     "start_time": "2022-08-10T01:26:29.653805",
     "status": "completed"
    },
    "scrolled": true,
    "tags": []
   },
   "outputs": [
    {
     "data": {
      "text/plain": [
       "CRIM       0\n",
       "ZN         0\n",
       "INDUS      0\n",
       "CHAS       0\n",
       "NOX        0\n",
       "RM         0\n",
       "AGE        0\n",
       "DIS        0\n",
       "RAD        0\n",
       "TAX        0\n",
       "PTRATIO    0\n",
       "B          0\n",
       "LSTAT      0\n",
       "PRICE      0\n",
       "dtype: int64"
      ]
     },
     "execution_count": 9,
     "metadata": {},
     "output_type": "execute_result"
    }
   ],
   "source": [
    "#Checking the null values in the dataset\n",
    "data.isnull().sum()"
   ]
  },
  {
   "cell_type": "markdown",
   "metadata": {
    "papermill": {
     "duration": 0.025871,
     "end_time": "2022-08-10T01:26:29.743681",
     "exception": false,
     "start_time": "2022-08-10T01:26:29.717810",
     "status": "completed"
    },
    "tags": []
   },
   "source": [
    "No null values in the dataset, no missing value treatement needed"
   ]
  },
  {
   "cell_type": "code",
   "execution_count": 10,
   "metadata": {
    "execution": {
     "iopub.execute_input": "2022-08-10T01:26:29.799182Z",
     "iopub.status.busy": "2022-08-10T01:26:29.798491Z",
     "iopub.status.idle": "2022-08-10T01:26:29.856434Z",
     "shell.execute_reply": "2022-08-10T01:26:29.855874Z"
    },
    "papermill": {
     "duration": 0.086686,
     "end_time": "2022-08-10T01:26:29.856529",
     "exception": false,
     "start_time": "2022-08-10T01:26:29.769843",
     "status": "completed"
    },
    "tags": []
   },
   "outputs": [
    {
     "data": {
      "text/html": [
       "<div>\n",
       "<style scoped>\n",
       "    .dataframe tbody tr th:only-of-type {\n",
       "        vertical-align: middle;\n",
       "    }\n",
       "\n",
       "    .dataframe tbody tr th {\n",
       "        vertical-align: top;\n",
       "    }\n",
       "\n",
       "    .dataframe thead th {\n",
       "        text-align: right;\n",
       "    }\n",
       "</style>\n",
       "<table border=\"1\" class=\"dataframe\">\n",
       "  <thead>\n",
       "    <tr style=\"text-align: right;\">\n",
       "      <th></th>\n",
       "      <th>CRIM</th>\n",
       "      <th>ZN</th>\n",
       "      <th>INDUS</th>\n",
       "      <th>CHAS</th>\n",
       "      <th>NOX</th>\n",
       "      <th>RM</th>\n",
       "      <th>AGE</th>\n",
       "      <th>DIS</th>\n",
       "      <th>RAD</th>\n",
       "      <th>TAX</th>\n",
       "      <th>PTRATIO</th>\n",
       "      <th>B</th>\n",
       "      <th>LSTAT</th>\n",
       "      <th>PRICE</th>\n",
       "    </tr>\n",
       "  </thead>\n",
       "  <tbody>\n",
       "    <tr>\n",
       "      <th>count</th>\n",
       "      <td>506.000000</td>\n",
       "      <td>506.000000</td>\n",
       "      <td>506.000000</td>\n",
       "      <td>506.000000</td>\n",
       "      <td>506.000000</td>\n",
       "      <td>506.000000</td>\n",
       "      <td>506.000000</td>\n",
       "      <td>506.000000</td>\n",
       "      <td>506.000000</td>\n",
       "      <td>506.000000</td>\n",
       "      <td>506.000000</td>\n",
       "      <td>506.000000</td>\n",
       "      <td>506.000000</td>\n",
       "      <td>506.000000</td>\n",
       "    </tr>\n",
       "    <tr>\n",
       "      <th>mean</th>\n",
       "      <td>3.613524</td>\n",
       "      <td>11.363636</td>\n",
       "      <td>11.136779</td>\n",
       "      <td>0.069170</td>\n",
       "      <td>0.554695</td>\n",
       "      <td>6.284634</td>\n",
       "      <td>68.574901</td>\n",
       "      <td>3.795043</td>\n",
       "      <td>9.549407</td>\n",
       "      <td>408.237154</td>\n",
       "      <td>18.455534</td>\n",
       "      <td>356.674032</td>\n",
       "      <td>12.653063</td>\n",
       "      <td>22.532806</td>\n",
       "    </tr>\n",
       "    <tr>\n",
       "      <th>std</th>\n",
       "      <td>8.601545</td>\n",
       "      <td>23.322453</td>\n",
       "      <td>6.860353</td>\n",
       "      <td>0.253994</td>\n",
       "      <td>0.115878</td>\n",
       "      <td>0.702617</td>\n",
       "      <td>28.148861</td>\n",
       "      <td>2.105710</td>\n",
       "      <td>8.707259</td>\n",
       "      <td>168.537116</td>\n",
       "      <td>2.164946</td>\n",
       "      <td>91.294864</td>\n",
       "      <td>7.141062</td>\n",
       "      <td>9.197104</td>\n",
       "    </tr>\n",
       "    <tr>\n",
       "      <th>min</th>\n",
       "      <td>0.006320</td>\n",
       "      <td>0.000000</td>\n",
       "      <td>0.460000</td>\n",
       "      <td>0.000000</td>\n",
       "      <td>0.385000</td>\n",
       "      <td>3.561000</td>\n",
       "      <td>2.900000</td>\n",
       "      <td>1.129600</td>\n",
       "      <td>1.000000</td>\n",
       "      <td>187.000000</td>\n",
       "      <td>12.600000</td>\n",
       "      <td>0.320000</td>\n",
       "      <td>1.730000</td>\n",
       "      <td>5.000000</td>\n",
       "    </tr>\n",
       "    <tr>\n",
       "      <th>25%</th>\n",
       "      <td>0.082045</td>\n",
       "      <td>0.000000</td>\n",
       "      <td>5.190000</td>\n",
       "      <td>0.000000</td>\n",
       "      <td>0.449000</td>\n",
       "      <td>5.885500</td>\n",
       "      <td>45.025000</td>\n",
       "      <td>2.100175</td>\n",
       "      <td>4.000000</td>\n",
       "      <td>279.000000</td>\n",
       "      <td>17.400000</td>\n",
       "      <td>375.377500</td>\n",
       "      <td>6.950000</td>\n",
       "      <td>17.025000</td>\n",
       "    </tr>\n",
       "    <tr>\n",
       "      <th>50%</th>\n",
       "      <td>0.256510</td>\n",
       "      <td>0.000000</td>\n",
       "      <td>9.690000</td>\n",
       "      <td>0.000000</td>\n",
       "      <td>0.538000</td>\n",
       "      <td>6.208500</td>\n",
       "      <td>77.500000</td>\n",
       "      <td>3.207450</td>\n",
       "      <td>5.000000</td>\n",
       "      <td>330.000000</td>\n",
       "      <td>19.050000</td>\n",
       "      <td>391.440000</td>\n",
       "      <td>11.360000</td>\n",
       "      <td>21.200000</td>\n",
       "    </tr>\n",
       "    <tr>\n",
       "      <th>75%</th>\n",
       "      <td>3.677083</td>\n",
       "      <td>12.500000</td>\n",
       "      <td>18.100000</td>\n",
       "      <td>0.000000</td>\n",
       "      <td>0.624000</td>\n",
       "      <td>6.623500</td>\n",
       "      <td>94.075000</td>\n",
       "      <td>5.188425</td>\n",
       "      <td>24.000000</td>\n",
       "      <td>666.000000</td>\n",
       "      <td>20.200000</td>\n",
       "      <td>396.225000</td>\n",
       "      <td>16.955000</td>\n",
       "      <td>25.000000</td>\n",
       "    </tr>\n",
       "    <tr>\n",
       "      <th>max</th>\n",
       "      <td>88.976200</td>\n",
       "      <td>100.000000</td>\n",
       "      <td>27.740000</td>\n",
       "      <td>1.000000</td>\n",
       "      <td>0.871000</td>\n",
       "      <td>8.780000</td>\n",
       "      <td>100.000000</td>\n",
       "      <td>12.126500</td>\n",
       "      <td>24.000000</td>\n",
       "      <td>711.000000</td>\n",
       "      <td>22.000000</td>\n",
       "      <td>396.900000</td>\n",
       "      <td>37.970000</td>\n",
       "      <td>50.000000</td>\n",
       "    </tr>\n",
       "  </tbody>\n",
       "</table>\n",
       "</div>"
      ],
      "text/plain": [
       "             CRIM          ZN       INDUS        CHAS         NOX          RM  \\\n",
       "count  506.000000  506.000000  506.000000  506.000000  506.000000  506.000000   \n",
       "mean     3.613524   11.363636   11.136779    0.069170    0.554695    6.284634   \n",
       "std      8.601545   23.322453    6.860353    0.253994    0.115878    0.702617   \n",
       "min      0.006320    0.000000    0.460000    0.000000    0.385000    3.561000   \n",
       "25%      0.082045    0.000000    5.190000    0.000000    0.449000    5.885500   \n",
       "50%      0.256510    0.000000    9.690000    0.000000    0.538000    6.208500   \n",
       "75%      3.677083   12.500000   18.100000    0.000000    0.624000    6.623500   \n",
       "max     88.976200  100.000000   27.740000    1.000000    0.871000    8.780000   \n",
       "\n",
       "              AGE         DIS         RAD         TAX     PTRATIO           B  \\\n",
       "count  506.000000  506.000000  506.000000  506.000000  506.000000  506.000000   \n",
       "mean    68.574901    3.795043    9.549407  408.237154   18.455534  356.674032   \n",
       "std     28.148861    2.105710    8.707259  168.537116    2.164946   91.294864   \n",
       "min      2.900000    1.129600    1.000000  187.000000   12.600000    0.320000   \n",
       "25%     45.025000    2.100175    4.000000  279.000000   17.400000  375.377500   \n",
       "50%     77.500000    3.207450    5.000000  330.000000   19.050000  391.440000   \n",
       "75%     94.075000    5.188425   24.000000  666.000000   20.200000  396.225000   \n",
       "max    100.000000   12.126500   24.000000  711.000000   22.000000  396.900000   \n",
       "\n",
       "            LSTAT       PRICE  \n",
       "count  506.000000  506.000000  \n",
       "mean    12.653063   22.532806  \n",
       "std      7.141062    9.197104  \n",
       "min      1.730000    5.000000  \n",
       "25%      6.950000   17.025000  \n",
       "50%     11.360000   21.200000  \n",
       "75%     16.955000   25.000000  \n",
       "max     37.970000   50.000000  "
      ]
     },
     "execution_count": 10,
     "metadata": {},
     "output_type": "execute_result"
    }
   ],
   "source": [
    "#Checking the statistics of the data\n",
    "data.describe()"
   ]
  },
  {
   "cell_type": "markdown",
   "metadata": {
    "papermill": {
     "duration": 0.025796,
     "end_time": "2022-08-10T01:26:29.908342",
     "exception": false,
     "start_time": "2022-08-10T01:26:29.882546",
     "status": "completed"
    },
    "tags": []
   },
   "source": [
    "This is sometimes very useful, for example if you look at the CRIM the max is 88.97 and 75% of the value is below 3.677083 and mean is 3.613524 so it means the max values is actually an outlier or there are outliers present in the column"
   ]
  },
  {
   "cell_type": "code",
   "execution_count": 11,
   "metadata": {
    "execution": {
     "iopub.execute_input": "2022-08-10T01:26:29.973736Z",
     "iopub.status.busy": "2022-08-10T01:26:29.971785Z",
     "iopub.status.idle": "2022-08-10T01:26:29.979499Z",
     "shell.execute_reply": "2022-08-10T01:26:29.978820Z"
    },
    "papermill": {
     "duration": 0.04482,
     "end_time": "2022-08-10T01:26:29.979615",
     "exception": false,
     "start_time": "2022-08-10T01:26:29.934795",
     "status": "completed"
    },
    "tags": []
   },
   "outputs": [
    {
     "name": "stdout",
     "output_type": "stream",
     "text": [
      "<class 'pandas.core.frame.DataFrame'>\n",
      "RangeIndex: 506 entries, 0 to 505\n",
      "Data columns (total 14 columns):\n",
      " #   Column   Non-Null Count  Dtype  \n",
      "---  ------   --------------  -----  \n",
      " 0   CRIM     506 non-null    float64\n",
      " 1   ZN       506 non-null    float64\n",
      " 2   INDUS    506 non-null    float64\n",
      " 3   CHAS     506 non-null    float64\n",
      " 4   NOX      506 non-null    float64\n",
      " 5   RM       506 non-null    float64\n",
      " 6   AGE      506 non-null    float64\n",
      " 7   DIS      506 non-null    float64\n",
      " 8   RAD      506 non-null    float64\n",
      " 9   TAX      506 non-null    float64\n",
      " 10  PTRATIO  506 non-null    float64\n",
      " 11  B        506 non-null    float64\n",
      " 12  LSTAT    506 non-null    float64\n",
      " 13  PRICE    506 non-null    float64\n",
      "dtypes: float64(14)\n",
      "memory usage: 55.5 KB\n"
     ]
    }
   ],
   "source": [
    "data.info()"
   ]
  },
  {
   "cell_type": "markdown",
   "metadata": {
    "papermill": {
     "duration": 0.026275,
     "end_time": "2022-08-10T01:26:30.033463",
     "exception": false,
     "start_time": "2022-08-10T01:26:30.007188",
     "status": "completed"
    },
    "tags": []
   },
   "source": [
    "<a id = 'visual'></a>\n",
    "# Visualisation"
   ]
  },
  {
   "cell_type": "code",
   "execution_count": 12,
   "metadata": {
    "execution": {
     "iopub.execute_input": "2022-08-10T01:26:30.092570Z",
     "iopub.status.busy": "2022-08-10T01:26:30.091971Z",
     "iopub.status.idle": "2022-08-10T01:26:30.434034Z",
     "shell.execute_reply": "2022-08-10T01:26:30.434581Z"
    },
    "papermill": {
     "duration": 0.373929,
     "end_time": "2022-08-10T01:26:30.434719",
     "exception": false,
     "start_time": "2022-08-10T01:26:30.060790",
     "status": "completed"
    },
    "tags": []
   },
   "outputs": [
    {
     "name": "stderr",
     "output_type": "stream",
     "text": [
      "C:\\Users\\ADITYA\\anaconda3\\lib\\site-packages\\seaborn\\distributions.py:2557: FutureWarning: `distplot` is a deprecated function and will be removed in a future version. Please adapt your code to use either `displot` (a figure-level function with similar flexibility) or `histplot` (an axes-level function for histograms).\n",
      "  warnings.warn(msg, FutureWarning)\n"
     ]
    },
    {
     "data": {
      "text/plain": [
       "<AxesSubplot:xlabel='PRICE', ylabel='Density'>"
      ]
     },
     "execution_count": 12,
     "metadata": {},
     "output_type": "execute_result"
    },
    {
     "data": {
      "image/png": "[encoded data removed]",
      "text/plain": [
       "<Figure size 432x288 with 1 Axes>"
      ]
     },
     "metadata": {
      "needs_background": "light"
     },
     "output_type": "display_data"
    }
   ],
   "source": [
    "#checking the distribution of the target variable\n",
    "import seaborn as sns\n",
    "sns.distplot(data.PRICE)"
   ]
  },
  {
   "cell_type": "markdown",
   "metadata": {
    "papermill": {
     "duration": 0.027272,
     "end_time": "2022-08-10T01:26:30.490810",
     "exception": false,
     "start_time": "2022-08-10T01:26:30.463538",
     "status": "completed"
    },
    "tags": []
   },
   "source": [
    "The distribution seems normal, has not be the data normal we would have perform log transformation or took to square root of the data to make the data normal. Normal distribution is need for the machine learning for better predictiblity of the model"
   ]
  },
  {
   "cell_type": "code",
   "execution_count": 13,
   "metadata": {
    "execution": {
     "iopub.execute_input": "2022-08-10T01:26:30.549853Z",
     "iopub.status.busy": "2022-08-10T01:26:30.549324Z",
     "iopub.status.idle": "2022-08-10T01:26:30.636656Z",
     "shell.execute_reply": "2022-08-10T01:26:30.637084Z"
    },
    "papermill": {
     "duration": 0.118564,
     "end_time": "2022-08-10T01:26:30.637221",
     "exception": false,
     "start_time": "2022-08-10T01:26:30.518657",
     "status": "completed"
    },
    "tags": []
   },
   "outputs": [
    {
     "name": "stderr",
     "output_type": "stream",
     "text": [
      "C:\\Users\\ADITYA\\anaconda3\\lib\\site-packages\\seaborn\\_decorators.py:36: FutureWarning: Pass the following variable as a keyword arg: x. From version 0.12, the only valid positional argument will be `data`, and passing other arguments without an explicit keyword will result in an error or misinterpretation.\n",
      "  warnings.warn(\n"
     ]
    },
    {
     "data": {
      "text/plain": [
       "<AxesSubplot:xlabel='PRICE'>"
      ]
     },
     "execution_count": 13,
     "metadata": {},
     "output_type": "execute_result"
    },
    {
     "data": {
      "image/png": "[encoded data removed]",
      "text/plain": [
       "<Figure size 432x288 with 1 Axes>"
      ]
     },
     "metadata": {
      "needs_background": "light"
     },
     "output_type": "display_data"
    }
   ],
   "source": [
    "#Distribution using box plot\n",
    "sns.boxplot(data.PRICE)"
   ]
  },
  {
   "cell_type": "markdown",
   "metadata": {
    "papermill": {
     "duration": 0.027998,
     "end_time": "2022-08-10T01:26:30.693962",
     "exception": false,
     "start_time": "2022-08-10T01:26:30.665964",
     "status": "completed"
    },
    "tags": []
   },
   "source": [
    "<a id = 'corr'></a>\n",
    "### Checking the correlation of the independent feature with the dependent feature\n",
    "\n",
    "Correlation is a statistical technique that can show whether and how strongly pairs of variables are related.An intelligent correlation analysis can lead to a greater understanding of your data"
   ]
  },
  {
   "cell_type": "code",
   "execution_count": 14,
   "metadata": {
    "execution": {
     "iopub.execute_input": "2022-08-10T01:26:30.755725Z",
     "iopub.status.busy": "2022-08-10T01:26:30.755201Z",
     "iopub.status.idle": "2022-08-10T01:26:30.762741Z",
     "shell.execute_reply": "2022-08-10T01:26:30.763228Z"
    },
    "papermill": {
     "duration": 0.040744,
     "end_time": "2022-08-10T01:26:30.763342",
     "exception": false,
     "start_time": "2022-08-10T01:26:30.722598",
     "status": "completed"
    },
    "tags": []
   },
   "outputs": [
    {
     "data": {
      "text/plain": [
       "CRIM      -0.388305\n",
       "ZN         0.360445\n",
       "INDUS     -0.483725\n",
       "CHAS       0.175260\n",
       "NOX       -0.427321\n",
       "RM         0.695360\n",
       "AGE       -0.376955\n",
       "DIS        0.249929\n",
       "RAD       -0.381626\n",
       "TAX       -0.468536\n",
       "PTRATIO   -0.507787\n",
       "B          0.333461\n",
       "LSTAT     -0.737663\n",
       "PRICE      1.000000\n",
       "Name: PRICE, dtype: float64"
      ]
     },
     "execution_count": 14,
     "metadata": {},
     "output_type": "execute_result"
    }
   ],
   "source": [
    "#checking Correlation of the data \n",
    "correlation = data.corr()\n",
    "correlation.loc['PRICE']"
   ]
  },
  {
   "cell_type": "code",
   "execution_count": 15,
   "metadata": {
    "execution": {
     "iopub.execute_input": "2022-08-10T01:26:30.832656Z",
     "iopub.status.busy": "2022-08-10T01:26:30.831872Z",
     "iopub.status.idle": "2022-08-10T01:26:31.534054Z",
     "shell.execute_reply": "2022-08-10T01:26:31.534522Z"
    },
    "papermill": {
     "duration": 0.741661,
     "end_time": "2022-08-10T01:26:31.534640",
     "exception": false,
     "start_time": "2022-08-10T01:26:30.792979",
     "status": "completed"
    },
    "tags": []
   },
   "outputs": [
    {
     "data": {
      "text/plain": [
       "<AxesSubplot:>"
      ]
     },
     "execution_count": 15,
     "metadata": {},
     "output_type": "execute_result"
    },
    {
     "data": {
      "image/png": "[encoded data removed]",
      "text/plain": [
       "<Figure size 1080x864 with 2 Axes>"
      ]
     },
     "metadata": {
      "needs_background": "light"
     },
     "output_type": "display_data"
    }
   ],
   "source": [
    "# plotting the heatmap\n",
    "import matplotlib.pyplot as plt\n",
    "fig,axes = plt.subplots(figsize=(15,12))\n",
    "sns.heatmap(correlation,square = True,annot = True)"
   ]
  },
  {
   "cell_type": "markdown",
   "metadata": {
    "papermill": {
     "duration": 0.031597,
     "end_time": "2022-08-10T01:26:31.597827",
     "exception": false,
     "start_time": "2022-08-10T01:26:31.566230",
     "status": "completed"
    },
    "tags": []
   },
   "source": [
    "By looking at the correlation plot LSAT is negatively correlated with -0.75 and RM is positively correlated to the price and PTRATIO is correlated negatively with -0.51"
   ]
  },
  {
   "cell_type": "markdown",
   "metadata": {
    "papermill": {
     "duration": 0.033744,
     "end_time": "2022-08-10T01:26:32.083523",
     "exception": false,
     "start_time": "2022-08-10T01:26:32.049779",
     "status": "completed"
    },
    "tags": []
   },
   "source": [
    "<a id = 'split'></a>\n",
    "### Splitting the dependent feature and independent feature "
   ]
  },
  {
   "cell_type": "code",
   "execution_count": 16,
   "metadata": {
    "execution": {
     "iopub.execute_input": "2022-08-10T01:26:32.154451Z",
     "iopub.status.busy": "2022-08-10T01:26:32.153701Z",
     "iopub.status.idle": "2022-08-10T01:26:32.157924Z",
     "shell.execute_reply": "2022-08-10T01:26:32.158460Z"
    },
    "papermill": {
     "duration": 0.041028,
     "end_time": "2022-08-10T01:26:32.158598",
     "exception": false,
     "start_time": "2022-08-10T01:26:32.117570",
     "status": "completed"
    },
    "tags": []
   },
   "outputs": [],
   "source": [
    "#X = data[['LSTAT','RM','PTRATIO']]\n",
    "X = data.iloc[:,:-1]\n",
    "y= data.PRICE"
   ]
  },
  {
   "cell_type": "markdown",
   "metadata": {
    "papermill": {
     "duration": 0.033364,
     "end_time": "2022-08-10T01:26:32.226273",
     "exception": false,
     "start_time": "2022-08-10T01:26:32.192909",
     "status": "completed"
    },
    "tags": []
   },
   "source": [
    "<a id = 'valid'></a>\n",
    "### Splitting the data for Model Validation "
   ]
  },
  {
   "cell_type": "code",
   "execution_count": 17,
   "metadata": {
    "execution": {
     "iopub.execute_input": "2022-08-10T01:26:32.299995Z",
     "iopub.status.busy": "2022-08-10T01:26:32.299475Z",
     "iopub.status.idle": "2022-08-10T01:26:32.360959Z",
     "shell.execute_reply": "2022-08-10T01:26:32.361433Z"
    },
    "papermill": {
     "duration": 0.100655,
     "end_time": "2022-08-10T01:26:32.361581",
     "exception": false,
     "start_time": "2022-08-10T01:26:32.260926",
     "status": "completed"
    },
    "tags": []
   },
   "outputs": [],
   "source": [
    "# Splitting the data into train and test for building the model\n",
    "from sklearn.model_selection import train_test_split\n",
    "X_train, X_test, y_train, y_test = train_test_split(X,y, test_size = 0.2, random_state = 4)"
   ]
  },
  {
   "cell_type": "markdown",
   "metadata": {
    "papermill": {
     "duration": 0.035405,
     "end_time": "2022-08-10T01:26:33.089945",
     "exception": false,
     "start_time": "2022-08-10T01:26:33.054540",
     "status": "completed"
    },
    "tags": []
   },
   "source": [
    "<a id  = 'NN'></a>\n",
    "## Neural Networks"
   ]
  },
  {
   "cell_type": "code",
   "execution_count": 18,
   "metadata": {
    "execution": {
     "iopub.execute_input": "2022-08-10T01:26:33.167565Z",
     "iopub.status.busy": "2022-08-10T01:26:33.166986Z",
     "iopub.status.idle": "2022-08-10T01:26:33.172677Z",
     "shell.execute_reply": "2022-08-10T01:26:33.173148Z"
    },
    "papermill": {
     "duration": 0.048668,
     "end_time": "2022-08-10T01:26:33.173274",
     "exception": false,
     "start_time": "2022-08-10T01:26:33.124606",
     "status": "completed"
    },
    "tags": []
   },
   "outputs": [],
   "source": [
    "#Scaling the dataset\n",
    "from sklearn.preprocessing import StandardScaler\n",
    "sc = StandardScaler()\n",
    "X_train = sc.fit_transform(X_train)\n",
    "X_test = sc.transform(X_test)"
   ]
  },
  {
   "cell_type": "code",
   "execution_count": 19,
   "metadata": {
    "execution": {
     "iopub.execute_input": "2022-08-10T01:26:33.318026Z",
     "iopub.status.busy": "2022-08-10T01:26:33.317534Z",
     "iopub.status.idle": "2022-08-10T01:26:33.557171Z",
     "shell.execute_reply": "2022-08-10T01:26:33.556601Z"
    },
    "papermill": {
     "duration": 0.278206,
     "end_time": "2022-08-10T01:26:33.557268",
     "exception": false,
     "start_time": "2022-08-10T01:26:33.279062",
     "status": "completed"
    },
    "tags": []
   },
   "outputs": [],
   "source": [
    "#Creating the neural network model\n",
    "import keras\n",
    "from keras.layers import Dense, Activation,Dropout\n",
    "from keras.models import Sequential\n",
    "\n",
    "model = Sequential()\n",
    "\n",
    "model.add(Dense(128,activation  = 'relu',input_dim =13))\n",
    "model.add(Dense(64,activation  = 'relu'))\n",
    "model.add(Dense(32,activation  = 'relu'))\n",
    "model.add(Dense(16,activation  = 'relu'))\n",
    "model.add(Dense(1))\n",
    "model.compile(optimizer = 'adam',loss = 'mean_squared_error')"
   ]
  },
  {
   "cell_type": "code",
   "execution_count": 20,
   "metadata": {
    "execution": {
     "iopub.execute_input": "2022-08-10T01:26:33.634315Z",
     "iopub.status.busy": "2022-08-10T01:26:33.633594Z",
     "iopub.status.idle": "2022-08-10T01:26:36.604978Z",
     "shell.execute_reply": "2022-08-10T01:26:36.604489Z"
    },
    "papermill": {
     "duration": 3.012095,
     "end_time": "2022-08-10T01:26:36.605106",
     "exception": false,
     "start_time": "2022-08-10T01:26:33.593011",
     "status": "completed"
    },
    "tags": []
   },
   "outputs": [
    {
     "name": "stdout",
     "output_type": "stream",
     "text": [
      "Epoch 1/100\n",
      "13/13 [==============================] - 1s 2ms/step - loss: 565.8471\n",
      "Epoch 2/100\n",
      "13/13 [==============================] - 0s 2ms/step - loss: 508.2584\n",
      "Epoch 3/100\n",
      "13/13 [==============================] - 0s 2ms/step - loss: 372.1116\n",
      "Epoch 4/100\n",
      "13/13 [==============================] - 0s 2ms/step - loss: 148.9449\n",
      "Epoch 5/100\n",
      "13/13 [==============================] - 0s 2ms/step - loss: 62.1975\n",
      "Epoch 6/100\n",
      "13/13 [==============================] - 0s 2ms/step - loss: 37.2017\n",
      "Epoch 7/100\n",
      "13/13 [==============================] - 0s 2ms/step - loss: 28.2180\n",
      "Epoch 8/100\n",
      "13/13 [==============================] - 0s 2ms/step - loss: 24.5292\n",
      "Epoch 9/100\n",
      "13/13 [==============================] - 0s 2ms/step - loss: 21.7771\n",
      "Epoch 10/100\n",
      "13/13 [==============================] - 0s 2ms/step - loss: 19.9602\n",
      "Epoch 11/100\n",
      "13/13 [==============================] - 0s 2ms/step - loss: 18.6219\n",
      "Epoch 12/100\n",
      "13/13 [==============================] - 0s 2ms/step - loss: 17.1932\n",
      "Epoch 13/100\n",
      "13/13 [==============================] - 0s 2ms/step - loss: 16.2036\n",
      "Epoch 14/100\n",
      "13/13 [==============================] - 0s 2ms/step - loss: 15.1618\n",
      "Epoch 15/100\n",
      "13/13 [==============================] - 0s 2ms/step - loss: 14.3918\n",
      "Epoch 16/100\n",
      "13/13 [==============================] - 0s 2ms/step - loss: 13.8811\n",
      "Epoch 17/100\n",
      "13/13 [==============================] - 0s 2ms/step - loss: 13.2066\n",
      "Epoch 18/100\n",
      "13/13 [==============================] - 0s 2ms/step - loss: 12.7214\n",
      "Epoch 19/100\n",
      "13/13 [==============================] - 0s 2ms/step - loss: 12.2342\n",
      "Epoch 20/100\n",
      "13/13 [==============================] - 0s 2ms/step - loss: 11.9760\n",
      "Epoch 21/100\n",
      "13/13 [==============================] - 0s 2ms/step - loss: 11.4437\n",
      "Epoch 22/100\n",
      "13/13 [==============================] - 0s 2ms/step - loss: 11.1616\n",
      "Epoch 23/100\n",
      "13/13 [==============================] - 0s 2ms/step - loss: 11.4487\n",
      "Epoch 24/100\n",
      "13/13 [==============================] - 0s 2ms/step - loss: 11.1252\n",
      "Epoch 25/100\n",
      "13/13 [==============================] - 0s 2ms/step - loss: 10.5329\n",
      "Epoch 26/100\n",
      "13/13 [==============================] - 0s 2ms/step - loss: 10.0967\n",
      "Epoch 27/100\n",
      "13/13 [==============================] - 0s 2ms/step - loss: 9.8607\n",
      "Epoch 28/100\n",
      "13/13 [==============================] - 0s 2ms/step - loss: 9.7167\n",
      "Epoch 29/100\n",
      "13/13 [==============================] - 0s 2ms/step - loss: 9.4251\n",
      "Epoch 30/100\n",
      "13/13 [==============================] - 0s 2ms/step - loss: 9.3198\n",
      "Epoch 31/100\n",
      "13/13 [==============================] - 0s 2ms/step - loss: 9.2083\n",
      "Epoch 32/100\n",
      "13/13 [==============================] - 0s 2ms/step - loss: 8.9366\n",
      "Epoch 33/100\n",
      "13/13 [==============================] - 0s 2ms/step - loss: 8.5799\n",
      "Epoch 34/100\n",
      "13/13 [==============================] - 0s 2ms/step - loss: 8.6431\n",
      "Epoch 35/100\n",
      "13/13 [==============================] - 0s 2ms/step - loss: 8.1271\n",
      "Epoch 36/100\n",
      "13/13 [==============================] - 0s 2ms/step - loss: 8.2276\n",
      "Epoch 37/100\n",
      "13/13 [==============================] - 0s 2ms/step - loss: 7.9698\n",
      "Epoch 38/100\n",
      "13/13 [==============================] - 0s 2ms/step - loss: 7.7088\n",
      "Epoch 39/100\n",
      "13/13 [==============================] - 0s 2ms/step - loss: 7.7652\n",
      "Epoch 40/100\n",
      "13/13 [==============================] - 0s 2ms/step - loss: 7.6448\n",
      "Epoch 41/100\n",
      "13/13 [==============================] - 0s 2ms/step - loss: 7.4252\n",
      "Epoch 42/100\n",
      "13/13 [==============================] - 0s 2ms/step - loss: 7.2074\n",
      "Epoch 43/100\n",
      "13/13 [==============================] - 0s 2ms/step - loss: 7.0819\n",
      "Epoch 44/100\n",
      "13/13 [==============================] - 0s 2ms/step - loss: 6.9385\n",
      "Epoch 45/100\n",
      "13/13 [==============================] - 0s 2ms/step - loss: 6.6880\n",
      "Epoch 46/100\n",
      "13/13 [==============================] - 0s 3ms/step - loss: 6.5464\n",
      "Epoch 47/100\n",
      "13/13 [==============================] - 0s 2ms/step - loss: 6.3693\n",
      "Epoch 48/100\n",
      "13/13 [==============================] - 0s 2ms/step - loss: 6.2959\n",
      "Epoch 49/100\n",
      "13/13 [==============================] - 0s 2ms/step - loss: 6.2059\n",
      "Epoch 50/100\n",
      "13/13 [==============================] - 0s 2ms/step - loss: 5.9793\n",
      "Epoch 51/100\n",
      "13/13 [==============================] - 0s 2ms/step - loss: 5.9576\n",
      "Epoch 52/100\n",
      "13/13 [==============================] - 0s 2ms/step - loss: 5.8365\n",
      "Epoch 53/100\n",
      "13/13 [==============================] - 0s 2ms/step - loss: 5.7768\n",
      "Epoch 54/100\n",
      "13/13 [==============================] - 0s 2ms/step - loss: 5.5186\n",
      "Epoch 55/100\n",
      "13/13 [==============================] - 0s 2ms/step - loss: 5.3682\n",
      "Epoch 56/100\n",
      "13/13 [==============================] - 0s 2ms/step - loss: 5.2846\n",
      "Epoch 57/100\n",
      "13/13 [==============================] - 0s 2ms/step - loss: 5.2292\n",
      "Epoch 58/100\n",
      "13/13 [==============================] - 0s 2ms/step - loss: 5.1484\n",
      "Epoch 59/100\n",
      "13/13 [==============================] - 0s 2ms/step - loss: 5.2568\n",
      "Epoch 60/100\n",
      "13/13 [==============================] - 0s 2ms/step - loss: 5.0769\n",
      "Epoch 61/100\n",
      "13/13 [==============================] - 0s 2ms/step - loss: 5.1266\n",
      "Epoch 62/100\n",
      "13/13 [==============================] - 0s 2ms/step - loss: 5.2282\n",
      "Epoch 63/100\n",
      "13/13 [==============================] - 0s 2ms/step - loss: 4.9012\n",
      "Epoch 64/100\n",
      "13/13 [==============================] - 0s 2ms/step - loss: 4.8642\n",
      "Epoch 65/100\n",
      "13/13 [==============================] - 0s 2ms/step - loss: 4.9888\n",
      "Epoch 66/100\n",
      "13/13 [==============================] - 0s 2ms/step - loss: 4.6992\n",
      "Epoch 67/100\n",
      "13/13 [==============================] - 0s 2ms/step - loss: 4.5140\n",
      "Epoch 68/100\n",
      "13/13 [==============================] - 0s 2ms/step - loss: 4.4511\n",
      "Epoch 69/100\n",
      "13/13 [==============================] - 0s 2ms/step - loss: 4.2643\n",
      "Epoch 70/100\n",
      "13/13 [==============================] - 0s 2ms/step - loss: 4.2607\n",
      "Epoch 71/100\n",
      "13/13 [==============================] - 0s 2ms/step - loss: 4.1385\n",
      "Epoch 72/100\n",
      "13/13 [==============================] - 0s 2ms/step - loss: 4.0996\n",
      "Epoch 73/100\n",
      "13/13 [==============================] - 0s 2ms/step - loss: 4.2030\n",
      "Epoch 74/100\n",
      "13/13 [==============================] - 0s 2ms/step - loss: 4.1711\n",
      "Epoch 75/100\n",
      "13/13 [==============================] - 0s 2ms/step - loss: 3.9370\n",
      "Epoch 76/100\n",
      "13/13 [==============================] - 0s 2ms/step - loss: 4.1785\n",
      "Epoch 77/100\n",
      "13/13 [==============================] - 0s 2ms/step - loss: 4.1934\n",
      "Epoch 78/100\n",
      "13/13 [==============================] - 0s 2ms/step - loss: 3.9593\n",
      "Epoch 79/100\n",
      "13/13 [==============================] - 0s 2ms/step - loss: 3.8122\n",
      "Epoch 80/100\n",
      "13/13 [==============================] - 0s 2ms/step - loss: 3.6879\n",
      "Epoch 81/100\n",
      "13/13 [==============================] - 0s 2ms/step - loss: 3.6125\n",
      "Epoch 82/100\n",
      "13/13 [==============================] - 0s 2ms/step - loss: 3.6586\n",
      "Epoch 83/100\n",
      "13/13 [==============================] - 0s 2ms/step - loss: 3.7425\n",
      "Epoch 84/100\n",
      "13/13 [==============================] - 0s 2ms/step - loss: 3.5542\n",
      "Epoch 85/100\n",
      "13/13 [==============================] - 0s 2ms/step - loss: 3.4803\n",
      "Epoch 86/100\n",
      "13/13 [==============================] - 0s 2ms/step - loss: 3.6261\n",
      "Epoch 87/100\n",
      "13/13 [==============================] - 0s 2ms/step - loss: 3.3839\n",
      "Epoch 88/100\n",
      "13/13 [==============================] - 0s 2ms/step - loss: 3.5230\n",
      "Epoch 89/100\n",
      "13/13 [==============================] - 0s 2ms/step - loss: 3.4162\n",
      "Epoch 90/100\n",
      "13/13 [==============================] - 0s 2ms/step - loss: 3.5132\n",
      "Epoch 91/100\n",
      "13/13 [==============================] - 0s 2ms/step - loss: 3.1075\n",
      "Epoch 92/100\n",
      "13/13 [==============================] - 0s 2ms/step - loss: 3.1370\n",
      "Epoch 93/100\n",
      "13/13 [==============================] - 0s 2ms/step - loss: 3.3235\n",
      "Epoch 94/100\n",
      "13/13 [==============================] - 0s 2ms/step - loss: 3.0494\n",
      "Epoch 95/100\n",
      "13/13 [==============================] - 0s 2ms/step - loss: 2.9431\n",
      "Epoch 96/100\n",
      "13/13 [==============================] - 0s 2ms/step - loss: 3.1863\n",
      "Epoch 97/100\n",
      "13/13 [==============================] - 0s 2ms/step - loss: 2.9754\n",
      "Epoch 98/100\n",
      "13/13 [==============================] - 0s 2ms/step - loss: 3.0526\n",
      "Epoch 99/100\n",
      "13/13 [==============================] - 0s 2ms/step - loss: 2.9553\n",
      "Epoch 100/100\n",
      "13/13 [==============================] - 0s 2ms/step - loss: 2.8533\n"
     ]
    },
    {
     "data": {
      "text/plain": [
       "<keras.callbacks.History at 0x1f7607ed9a0>"
      ]
     },
     "execution_count": 20,
     "metadata": {},
     "output_type": "execute_result"
    }
   ],
   "source": [
    "model.fit(X_train, y_train, epochs = 100)"
   ]
  },
  {
   "cell_type": "markdown",
   "metadata": {
    "papermill": {
     "duration": 0.096615,
     "end_time": "2022-08-10T01:26:36.816379",
     "exception": false,
     "start_time": "2022-08-10T01:26:36.719764",
     "status": "completed"
    },
    "tags": []
   },
   "source": [
    "<a id = 'eval'></a>\n",
    "### Evaluation of the model"
   ]
  },
  {
   "cell_type": "code",
   "execution_count": 21,
   "metadata": {
    "execution": {
     "iopub.execute_input": "2022-08-10T01:26:37.019287Z",
     "iopub.status.busy": "2022-08-10T01:26:37.018714Z",
     "iopub.status.idle": "2022-08-10T01:26:37.168258Z",
     "shell.execute_reply": "2022-08-10T01:26:37.168799Z"
    },
    "papermill": {
     "duration": 0.256434,
     "end_time": "2022-08-10T01:26:37.168937",
     "exception": false,
     "start_time": "2022-08-10T01:26:36.912503",
     "status": "completed"
    },
    "tags": []
   },
   "outputs": [
    {
     "name": "stdout",
     "output_type": "stream",
     "text": [
      "4/4 [==============================] - 0s 2ms/step\n"
     ]
    }
   ],
   "source": [
    "y_pred = model.predict(X_test)"
   ]
  },
  {
   "cell_type": "code",
   "execution_count": 22,
   "metadata": {
    "execution": {
     "iopub.execute_input": "2022-08-10T01:26:37.369438Z",
     "iopub.status.busy": "2022-08-10T01:26:37.367780Z",
     "iopub.status.idle": "2022-08-10T01:26:37.374405Z",
     "shell.execute_reply": "2022-08-10T01:26:37.373896Z"
    },
    "papermill": {
     "duration": 0.107329,
     "end_time": "2022-08-10T01:26:37.374517",
     "exception": false,
     "start_time": "2022-08-10T01:26:37.267188",
     "status": "completed"
    },
    "tags": []
   },
   "outputs": [
    {
     "name": "stdout",
     "output_type": "stream",
     "text": [
      "0.9035683109636379\n"
     ]
    }
   ],
   "source": [
    "from sklearn.metrics import r2_score\n",
    "r2 = r2_score(y_test, y_pred)\n",
    "print(r2)"
   ]
  },
  {
   "cell_type": "code",
   "execution_count": 23,
   "metadata": {
    "execution": {
     "iopub.execute_input": "2022-08-10T01:26:37.576037Z",
     "iopub.status.busy": "2022-08-10T01:26:37.575553Z",
     "iopub.status.idle": "2022-08-10T01:26:37.581054Z",
     "shell.execute_reply": "2022-08-10T01:26:37.581542Z"
    },
    "papermill": {
     "duration": 0.109177,
     "end_time": "2022-08-10T01:26:37.581665",
     "exception": false,
     "start_time": "2022-08-10T01:26:37.472488",
     "status": "completed"
    },
    "tags": []
   },
   "outputs": [
    {
     "name": "stdout",
     "output_type": "stream",
     "text": [
      "2.9929024033660965\n"
     ]
    }
   ],
   "source": [
    "# Predicting RMSE the Test set results\n",
    "from sklearn.metrics import mean_squared_error\n",
    "rmse = (np.sqrt(mean_squared_error(y_test, y_pred)))\n",
    "print(rmse)"
   ]
  }
 ],
 "metadata": {
  "kernelspec": {
   "display_name": "Python 3",
   "language": "python",
   "name": "python3"
  },
  "language_info": {
   "codemirror_mode": {
    "name": "ipython",
    "version": 3
   },
   "file_extension": ".py",
   "mimetype": "text/x-python",
   "name": "python",
   "nbconvert_exporter": "python",
   "pygments_lexer": "ipython3",
   "version": "3.8.8"
  },
  "papermill": {
   "duration": 21.578429,
   "end_time": "2022-08-10T01:26:38.171120",
   "environment_variables": {},
   "exception": null,
   "input_path": "__notebook__.ipynb",
   "output_path": "__notebook__.ipynb",
   "parameters": {},
   "start_time": "2022-08-10T01:26:16.592691",
   "version": "2.1.0"
  }
 },
 "nbformat": 4,
 "nbformat_minor": 4
}
