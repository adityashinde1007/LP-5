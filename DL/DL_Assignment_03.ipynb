{
 "cells": [
  {
   "cell_type": "markdown",
   "id": "fafc3ab9",
   "metadata": {},
   "source": [
    "### Recurrent neural network (RNN) \n",
    "#### Use the Google stock prices dataset and design a time series analysis and prediction system using RNN."
   ]
  },
  {
   "cell_type": "code",
   "execution_count": 1,
   "id": "d66f8f18",
   "metadata": {
    "_cell_guid": "b1076dfc-b9ad-4769-8c92-a6c4dae69d19",
    "_uuid": "8f2839f25d086af736a60e9eeb907d3b93b6e0e5",
    "execution": {
     "iopub.execute_input": "2022-09-08T14:47:55.602459Z",
     "iopub.status.busy": "2022-09-08T14:47:55.601789Z",
     "iopub.status.idle": "2022-09-08T14:47:56.634153Z",
     "shell.execute_reply": "2022-09-08T14:47:56.631771Z"
    },
    "papermill": {
     "duration": 1.043718,
     "end_time": "2022-09-08T14:47:56.636636",
     "exception": false,
     "start_time": "2022-09-08T14:47:55.592918",
     "status": "completed"
    },
    "tags": []
   },
   "outputs": [],
   "source": [
    "import numpy as np # linear algebra\n",
    "import pandas as pd\n",
    "import matplotlib.pyplot as plt\n",
    "import seaborn as sns"
   ]
  },
  {
   "cell_type": "markdown",
   "id": "ea92cfcc",
   "metadata": {
    "papermill": {
     "duration": 0.00724,
     "end_time": "2022-09-08T14:47:56.651898",
     "exception": false,
     "start_time": "2022-09-08T14:47:56.644658",
     "status": "completed"
    },
    "tags": []
   },
   "source": [
    "# Data Review "
   ]
  },
  {
   "cell_type": "markdown",
   "id": "03133803",
   "metadata": {
    "papermill": {
     "duration": 0.007265,
     "end_time": "2022-09-08T14:47:56.667389",
     "exception": false,
     "start_time": "2022-09-08T14:47:56.660124",
     "status": "completed"
    },
    "tags": []
   },
   "source": [
    "I read the dataset with the panda library."
   ]
  },
  {
   "cell_type": "code",
   "execution_count": 2,
   "id": "25eac9b2",
   "metadata": {
    "execution": {
     "iopub.execute_input": "2022-09-08T14:47:56.684861Z",
     "iopub.status.busy": "2022-09-08T14:47:56.684243Z",
     "iopub.status.idle": "2022-09-08T14:47:56.720047Z",
     "shell.execute_reply": "2022-09-08T14:47:56.719433Z"
    },
    "papermill": {
     "duration": 0.046766,
     "end_time": "2022-09-08T14:47:56.721914",
     "exception": false,
     "start_time": "2022-09-08T14:47:56.675148",
     "status": "completed"
    },
    "tags": []
   },
   "outputs": [
    {
     "data": {
      "text/html": [
       "<div>\n",
       "<style scoped>\n",
       "    .dataframe tbody tr th:only-of-type {\n",
       "        vertical-align: middle;\n",
       "    }\n",
       "\n",
       "    .dataframe tbody tr th {\n",
       "        vertical-align: top;\n",
       "    }\n",
       "\n",
       "    .dataframe thead th {\n",
       "        text-align: right;\n",
       "    }\n",
       "</style>\n",
       "<table border=\"1\" class=\"dataframe\">\n",
       "  <thead>\n",
       "    <tr style=\"text-align: right;\">\n",
       "      <th></th>\n",
       "      <th>Date</th>\n",
       "      <th>Open</th>\n",
       "      <th>High</th>\n",
       "      <th>Low</th>\n",
       "      <th>Close</th>\n",
       "      <th>Volume</th>\n",
       "    </tr>\n",
       "  </thead>\n",
       "  <tbody>\n",
       "    <tr>\n",
       "      <th>0</th>\n",
       "      <td>1/3/2012</td>\n",
       "      <td>325.25</td>\n",
       "      <td>332.83</td>\n",
       "      <td>324.97</td>\n",
       "      <td>663.59</td>\n",
       "      <td>7,380,500</td>\n",
       "    </tr>\n",
       "    <tr>\n",
       "      <th>1</th>\n",
       "      <td>1/4/2012</td>\n",
       "      <td>331.27</td>\n",
       "      <td>333.87</td>\n",
       "      <td>329.08</td>\n",
       "      <td>666.45</td>\n",
       "      <td>5,749,400</td>\n",
       "    </tr>\n",
       "    <tr>\n",
       "      <th>2</th>\n",
       "      <td>1/5/2012</td>\n",
       "      <td>329.83</td>\n",
       "      <td>330.75</td>\n",
       "      <td>326.89</td>\n",
       "      <td>657.21</td>\n",
       "      <td>6,590,300</td>\n",
       "    </tr>\n",
       "    <tr>\n",
       "      <th>3</th>\n",
       "      <td>1/6/2012</td>\n",
       "      <td>328.34</td>\n",
       "      <td>328.77</td>\n",
       "      <td>323.68</td>\n",
       "      <td>648.24</td>\n",
       "      <td>5,405,900</td>\n",
       "    </tr>\n",
       "    <tr>\n",
       "      <th>4</th>\n",
       "      <td>1/9/2012</td>\n",
       "      <td>322.04</td>\n",
       "      <td>322.29</td>\n",
       "      <td>309.46</td>\n",
       "      <td>620.76</td>\n",
       "      <td>11,688,800</td>\n",
       "    </tr>\n",
       "  </tbody>\n",
       "</table>\n",
       "</div>"
      ],
      "text/plain": [
       "       Date    Open    High     Low   Close      Volume\n",
       "0  1/3/2012  325.25  332.83  324.97  663.59   7,380,500\n",
       "1  1/4/2012  331.27  333.87  329.08  666.45   5,749,400\n",
       "2  1/5/2012  329.83  330.75  326.89  657.21   6,590,300\n",
       "3  1/6/2012  328.34  328.77  323.68  648.24   5,405,900\n",
       "4  1/9/2012  322.04  322.29  309.46  620.76  11,688,800"
      ]
     },
     "execution_count": 2,
     "metadata": {},
     "output_type": "execute_result"
    }
   ],
   "source": [
    "data = pd.read_csv(\"Google_Stock_Price_Train.csv\")\n",
    "data.head()"
   ]
  },
  {
   "cell_type": "code",
   "execution_count": 3,
   "id": "32af16e0",
   "metadata": {
    "execution": {
     "iopub.execute_input": "2022-09-08T14:47:56.740375Z",
     "iopub.status.busy": "2022-09-08T14:47:56.739414Z",
     "iopub.status.idle": "2022-09-08T14:47:56.761751Z",
     "shell.execute_reply": "2022-09-08T14:47:56.761150Z"
    },
    "papermill": {
     "duration": 0.033724,
     "end_time": "2022-09-08T14:47:56.764035",
     "exception": false,
     "start_time": "2022-09-08T14:47:56.730311",
     "status": "completed"
    },
    "tags": []
   },
   "outputs": [
    {
     "name": "stdout",
     "output_type": "stream",
     "text": [
      "<class 'pandas.core.frame.DataFrame'>\n",
      "RangeIndex: 1258 entries, 0 to 1257\n",
      "Data columns (total 6 columns):\n",
      " #   Column  Non-Null Count  Dtype  \n",
      "---  ------  --------------  -----  \n",
      " 0   Date    1258 non-null   object \n",
      " 1   Open    1258 non-null   float64\n",
      " 2   High    1258 non-null   float64\n",
      " 3   Low     1258 non-null   float64\n",
      " 4   Close   1258 non-null   object \n",
      " 5   Volume  1258 non-null   object \n",
      "dtypes: float64(3), object(3)\n",
      "memory usage: 59.1+ KB\n"
     ]
    }
   ],
   "source": [
    "# information of data\n",
    "data.info()"
   ]
  },
  {
   "cell_type": "code",
   "execution_count": 4,
   "id": "be197fe2",
   "metadata": {
    "execution": {
     "iopub.execute_input": "2022-09-08T14:47:56.783514Z",
     "iopub.status.busy": "2022-09-08T14:47:56.782490Z",
     "iopub.status.idle": "2022-09-08T14:47:56.801332Z",
     "shell.execute_reply": "2022-09-08T14:47:56.800685Z"
    },
    "papermill": {
     "duration": 0.030306,
     "end_time": "2022-09-08T14:47:56.803325",
     "exception": false,
     "start_time": "2022-09-08T14:47:56.773019",
     "status": "completed"
    },
    "tags": []
   },
   "outputs": [
    {
     "data": {
      "text/html": [
       "<div>\n",
       "<style scoped>\n",
       "    .dataframe tbody tr th:only-of-type {\n",
       "        vertical-align: middle;\n",
       "    }\n",
       "\n",
       "    .dataframe tbody tr th {\n",
       "        vertical-align: top;\n",
       "    }\n",
       "\n",
       "    .dataframe thead th {\n",
       "        text-align: right;\n",
       "    }\n",
       "</style>\n",
       "<table border=\"1\" class=\"dataframe\">\n",
       "  <thead>\n",
       "    <tr style=\"text-align: right;\">\n",
       "      <th></th>\n",
       "      <th>Open</th>\n",
       "      <th>High</th>\n",
       "      <th>Low</th>\n",
       "    </tr>\n",
       "  </thead>\n",
       "  <tbody>\n",
       "    <tr>\n",
       "      <th>count</th>\n",
       "      <td>1258.000000</td>\n",
       "      <td>1258.000000</td>\n",
       "      <td>1258.000000</td>\n",
       "    </tr>\n",
       "    <tr>\n",
       "      <th>mean</th>\n",
       "      <td>533.709833</td>\n",
       "      <td>537.880223</td>\n",
       "      <td>529.007409</td>\n",
       "    </tr>\n",
       "    <tr>\n",
       "      <th>std</th>\n",
       "      <td>151.904442</td>\n",
       "      <td>153.008811</td>\n",
       "      <td>150.552807</td>\n",
       "    </tr>\n",
       "    <tr>\n",
       "      <th>min</th>\n",
       "      <td>279.120000</td>\n",
       "      <td>281.210000</td>\n",
       "      <td>277.220000</td>\n",
       "    </tr>\n",
       "    <tr>\n",
       "      <th>25%</th>\n",
       "      <td>404.115000</td>\n",
       "      <td>406.765000</td>\n",
       "      <td>401.765000</td>\n",
       "    </tr>\n",
       "    <tr>\n",
       "      <th>50%</th>\n",
       "      <td>537.470000</td>\n",
       "      <td>540.750000</td>\n",
       "      <td>532.990000</td>\n",
       "    </tr>\n",
       "    <tr>\n",
       "      <th>75%</th>\n",
       "      <td>654.922500</td>\n",
       "      <td>662.587500</td>\n",
       "      <td>644.800000</td>\n",
       "    </tr>\n",
       "    <tr>\n",
       "      <th>max</th>\n",
       "      <td>816.680000</td>\n",
       "      <td>816.680000</td>\n",
       "      <td>805.140000</td>\n",
       "    </tr>\n",
       "  </tbody>\n",
       "</table>\n",
       "</div>"
      ],
      "text/plain": [
       "              Open         High          Low\n",
       "count  1258.000000  1258.000000  1258.000000\n",
       "mean    533.709833   537.880223   529.007409\n",
       "std     151.904442   153.008811   150.552807\n",
       "min     279.120000   281.210000   277.220000\n",
       "25%     404.115000   406.765000   401.765000\n",
       "50%     537.470000   540.750000   532.990000\n",
       "75%     654.922500   662.587500   644.800000\n",
       "max     816.680000   816.680000   805.140000"
      ]
     },
     "execution_count": 4,
     "metadata": {},
     "output_type": "execute_result"
    }
   ],
   "source": [
    "# Dataset Values(Max, min, std..)\n",
    "data.describe()"
   ]
  },
  {
   "cell_type": "code",
   "execution_count": 5,
   "id": "6f4ddba2",
   "metadata": {
    "execution": {
     "iopub.execute_input": "2022-09-08T14:47:56.821701Z",
     "iopub.status.busy": "2022-09-08T14:47:56.821177Z",
     "iopub.status.idle": "2022-09-08T14:47:56.831751Z",
     "shell.execute_reply": "2022-09-08T14:47:56.831040Z"
    },
    "papermill": {
     "duration": 0.021692,
     "end_time": "2022-09-08T14:47:56.833349",
     "exception": false,
     "start_time": "2022-09-08T14:47:56.811657",
     "status": "completed"
    },
    "tags": []
   },
   "outputs": [
    {
     "data": {
      "text/html": [
       "<div>\n",
       "<style scoped>\n",
       "    .dataframe tbody tr th:only-of-type {\n",
       "        vertical-align: middle;\n",
       "    }\n",
       "\n",
       "    .dataframe tbody tr th {\n",
       "        vertical-align: top;\n",
       "    }\n",
       "\n",
       "    .dataframe thead th {\n",
       "        text-align: right;\n",
       "    }\n",
       "</style>\n",
       "<table border=\"1\" class=\"dataframe\">\n",
       "  <thead>\n",
       "    <tr style=\"text-align: right;\">\n",
       "      <th></th>\n",
       "      <th>Open</th>\n",
       "      <th>High</th>\n",
       "      <th>Low</th>\n",
       "    </tr>\n",
       "  </thead>\n",
       "  <tbody>\n",
       "    <tr>\n",
       "      <th>Open</th>\n",
       "      <td>1.000000</td>\n",
       "      <td>0.999692</td>\n",
       "      <td>0.999498</td>\n",
       "    </tr>\n",
       "    <tr>\n",
       "      <th>High</th>\n",
       "      <td>0.999692</td>\n",
       "      <td>1.000000</td>\n",
       "      <td>0.999480</td>\n",
       "    </tr>\n",
       "    <tr>\n",
       "      <th>Low</th>\n",
       "      <td>0.999498</td>\n",
       "      <td>0.999480</td>\n",
       "      <td>1.000000</td>\n",
       "    </tr>\n",
       "  </tbody>\n",
       "</table>\n",
       "</div>"
      ],
      "text/plain": [
       "          Open      High       Low\n",
       "Open  1.000000  0.999692  0.999498\n",
       "High  0.999692  1.000000  0.999480\n",
       "Low   0.999498  0.999480  1.000000"
      ]
     },
     "execution_count": 5,
     "metadata": {},
     "output_type": "execute_result"
    }
   ],
   "source": [
    "# Data Correlation: Relationship between columns\n",
    "data.corr()"
   ]
  },
  {
   "cell_type": "code",
   "execution_count": 6,
   "id": "2f2f0add",
   "metadata": {
    "execution": {
     "iopub.execute_input": "2022-09-08T14:47:56.851693Z",
     "iopub.status.busy": "2022-09-08T14:47:56.851148Z",
     "iopub.status.idle": "2022-09-08T14:47:57.064126Z",
     "shell.execute_reply": "2022-09-08T14:47:57.063158Z"
    },
    "papermill": {
     "duration": 0.22447,
     "end_time": "2022-09-08T14:47:57.066184",
     "exception": false,
     "start_time": "2022-09-08T14:47:56.841714",
     "status": "completed"
    },
    "tags": []
   },
   "outputs": [
    {
     "data": {
      "image/png": "[encoded data removed]",
      "text/plain": [
       "<Figure size 360x360 with 2 Axes>"
      ]
     },
     "metadata": {
      "needs_background": "light"
     },
     "output_type": "display_data"
    }
   ],
   "source": [
    "# Visualization of correlation result with seaborn library heatmap.\n",
    "f, ax = plt.subplots(figsize = (5,5))\n",
    "sns.heatmap(data.corr(), annot = True, linewidths=0.5, linecolor = \"black\", fmt = \".4f\", ax = ax)\n",
    "plt.show()"
   ]
  },
  {
   "cell_type": "code",
   "execution_count": 7,
   "id": "7fb4861b",
   "metadata": {
    "execution": {
     "iopub.execute_input": "2022-09-08T14:47:57.106966Z",
     "iopub.status.busy": "2022-09-08T14:47:57.106453Z",
     "iopub.status.idle": "2022-09-08T14:47:57.112279Z",
     "shell.execute_reply": "2022-09-08T14:47:57.111648Z"
    },
    "papermill": {
     "duration": 0.01872,
     "end_time": "2022-09-08T14:47:57.114236",
     "exception": false,
     "start_time": "2022-09-08T14:47:57.095516",
     "status": "completed"
    },
    "tags": []
   },
   "outputs": [
    {
     "data": {
      "text/plain": [
       "Index(['Date', 'Open', 'High', 'Low', 'Close', 'Volume'], dtype='object')"
      ]
     },
     "execution_count": 7,
     "metadata": {},
     "output_type": "execute_result"
    }
   ],
   "source": [
    "# Dataset columns names\n",
    "data.columns"
   ]
  },
  {
   "cell_type": "code",
   "execution_count": 8,
   "id": "04dfba82",
   "metadata": {
    "execution": {
     "iopub.execute_input": "2022-09-08T14:47:57.169524Z",
     "iopub.status.busy": "2022-09-08T14:47:57.168936Z",
     "iopub.status.idle": "2022-09-08T14:47:57.176343Z",
     "shell.execute_reply": "2022-09-08T14:47:57.175243Z"
    },
    "papermill": {
     "duration": 0.02069,
     "end_time": "2022-09-08T14:47:57.178562",
     "exception": false,
     "start_time": "2022-09-08T14:47:57.157872",
     "status": "completed"
    },
    "tags": []
   },
   "outputs": [
    {
     "data": {
      "text/plain": [
       "array([[325.25],\n",
       "       [331.27],\n",
       "       [329.83],\n",
       "       ...,\n",
       "       [793.7 ],\n",
       "       [783.33],\n",
       "       [782.75]])"
      ]
     },
     "execution_count": 8,
     "metadata": {},
     "output_type": "execute_result"
    }
   ],
   "source": [
    "data_set = data.loc[:, [\"Open\"]].values\n",
    "data_set"
   ]
  },
  {
   "cell_type": "code",
   "execution_count": 9,
   "id": "26fd708f",
   "metadata": {
    "execution": {
     "iopub.execute_input": "2022-09-08T14:47:57.222843Z",
     "iopub.status.busy": "2022-09-08T14:47:57.222365Z",
     "iopub.status.idle": "2022-09-08T14:47:57.229912Z",
     "shell.execute_reply": "2022-09-08T14:47:57.228939Z"
    },
    "papermill": {
     "duration": 0.020146,
     "end_time": "2022-09-08T14:47:57.231914",
     "exception": false,
     "start_time": "2022-09-08T14:47:57.211768",
     "status": "completed"
    },
    "tags": []
   },
   "outputs": [
    {
     "data": {
      "text/plain": [
       "(1208, 1)"
      ]
     },
     "execution_count": 9,
     "metadata": {},
     "output_type": "execute_result"
    }
   ],
   "source": [
    "train = data_set[:len(data_set) - 50]\n",
    "test = data_set[len(train):]\n",
    "\n",
    "train.reshape(train.shape[0],1)\n",
    "train.shape"
   ]
  },
  {
   "cell_type": "markdown",
   "id": "b86a9cea",
   "metadata": {
    "papermill": {
     "duration": 0.008906,
     "end_time": "2022-09-08T14:47:57.252020",
     "exception": false,
     "start_time": "2022-09-08T14:47:57.243114",
     "status": "completed"
    },
    "tags": []
   },
   "source": [
    "- I normalize the train dataset.(between zero to one)\n",
    "- I use the MinMaxScaler function of Sklearn Library."
   ]
  },
  {
   "cell_type": "code",
   "execution_count": 10,
   "id": "4e9d2ee2",
   "metadata": {
    "execution": {
     "iopub.execute_input": "2022-09-08T14:47:57.271593Z",
     "iopub.status.busy": "2022-09-08T14:47:57.271307Z",
     "iopub.status.idle": "2022-09-08T14:47:57.428879Z",
     "shell.execute_reply": "2022-09-08T14:47:57.428249Z"
    },
    "papermill": {
     "duration": 0.169658,
     "end_time": "2022-09-08T14:47:57.430793",
     "exception": false,
     "start_time": "2022-09-08T14:47:57.261135",
     "status": "completed"
    },
    "tags": []
   },
   "outputs": [
    {
     "data": {
      "text/plain": [
       "array([[0.08886192],\n",
       "       [0.10045847],\n",
       "       [0.09768454],\n",
       "       ...,\n",
       "       [0.96447835],\n",
       "       [0.97998536],\n",
       "       [1.        ]])"
      ]
     },
     "execution_count": 10,
     "metadata": {},
     "output_type": "execute_result"
    }
   ],
   "source": [
    "# Normalization wiht MinmaxScaler\n",
    "from sklearn.preprocessing import MinMaxScaler\n",
    "scaler = MinMaxScaler(feature_range = (0,1)) # değerleri 0 ile 1 arasında sayılara indirger\n",
    "train_scaler = scaler.fit_transform(train)\n",
    "train_scaler"
   ]
  },
  {
   "cell_type": "markdown",
   "id": "6f6e1541",
   "metadata": {
    "papermill": {
     "duration": 0.008782,
     "end_time": "2022-09-08T14:47:57.449350",
     "exception": false,
     "start_time": "2022-09-08T14:47:57.440568",
     "status": "completed"
    },
    "tags": []
   },
   "source": [
    "I visualize the train_scaler."
   ]
  },
  {
   "cell_type": "code",
   "execution_count": 11,
   "id": "cadc8e8c",
   "metadata": {
    "execution": {
     "iopub.execute_input": "2022-09-08T14:47:57.468576Z",
     "iopub.status.busy": "2022-09-08T14:47:57.468063Z",
     "iopub.status.idle": "2022-09-08T14:47:57.587762Z",
     "shell.execute_reply": "2022-09-08T14:47:57.586658Z"
    },
    "papermill": {
     "duration": 0.131279,
     "end_time": "2022-09-08T14:47:57.589528",
     "exception": false,
     "start_time": "2022-09-08T14:47:57.458249",
     "status": "completed"
    },
    "tags": []
   },
   "outputs": [
    {
     "data": {
      "image/png": "[encoded data removed]",
      "text/plain": [
       "<Figure size 432x288 with 1 Axes>"
      ]
     },
     "metadata": {
      "needs_background": "light"
     },
     "output_type": "display_data"
    }
   ],
   "source": [
    "plt.plot(train_scaler)\n",
    "plt.show()"
   ]
  },
  {
   "cell_type": "markdown",
   "id": "f4740c9d",
   "metadata": {
    "papermill": {
     "duration": 0.009134,
     "end_time": "2022-09-08T14:47:57.608100",
     "exception": false,
     "start_time": "2022-09-08T14:47:57.598966",
     "status": "completed"
    },
    "tags": []
   },
   "source": [
    "I create a data structure with 50 timesteps and 1 output."
   ]
  },
  {
   "cell_type": "code",
   "execution_count": 12,
   "id": "e7c147b1",
   "metadata": {
    "execution": {
     "iopub.execute_input": "2022-09-08T14:47:57.628272Z",
     "iopub.status.busy": "2022-09-08T14:47:57.627919Z",
     "iopub.status.idle": "2022-09-08T14:47:57.636162Z",
     "shell.execute_reply": "2022-09-08T14:47:57.635078Z"
    },
    "papermill": {
     "duration": 0.020581,
     "end_time": "2022-09-08T14:47:57.638056",
     "exception": false,
     "start_time": "2022-09-08T14:47:57.617475",
     "status": "completed"
    },
    "tags": []
   },
   "outputs": [],
   "source": [
    "X_train = []\n",
    "Y_train = []\n",
    "timesteps = 50\n",
    "\n",
    "for i in range(timesteps, len(train_scaler)):\n",
    "    X_train.append(train_scaler[i - timesteps:i, 0])\n",
    "    Y_train.append(train_scaler[i,0])\n",
    "    \n",
    "X_train, Y_train = np.array(X_train), np.array(Y_train)\n",
    "\n",
    "# reshape\n",
    "X_train = np.reshape(X_train, (X_train.shape[0], X_train.shape[1], 1))"
   ]
  },
  {
   "cell_type": "code",
   "execution_count": 13,
   "id": "81e6f391",
   "metadata": {
    "execution": {
     "iopub.execute_input": "2022-09-08T14:47:57.659094Z",
     "iopub.status.busy": "2022-09-08T14:47:57.658603Z",
     "iopub.status.idle": "2022-09-08T14:47:57.664038Z",
     "shell.execute_reply": "2022-09-08T14:47:57.662559Z"
    },
    "papermill": {
     "duration": 0.018438,
     "end_time": "2022-09-08T14:47:57.665942",
     "exception": false,
     "start_time": "2022-09-08T14:47:57.647504",
     "status": "completed"
    },
    "tags": []
   },
   "outputs": [
    {
     "data": {
      "text/plain": [
       "(1158, 50, 1)"
      ]
     },
     "execution_count": 13,
     "metadata": {},
     "output_type": "execute_result"
    }
   ],
   "source": [
    "X_train.shape"
   ]
  },
  {
   "cell_type": "code",
   "execution_count": 14,
   "id": "e6e24052",
   "metadata": {
    "execution": {
     "iopub.execute_input": "2022-09-08T14:47:57.686173Z",
     "iopub.status.busy": "2022-09-08T14:47:57.685836Z",
     "iopub.status.idle": "2022-09-08T14:47:57.692496Z",
     "shell.execute_reply": "2022-09-08T14:47:57.691485Z"
    },
    "papermill": {
     "duration": 0.018925,
     "end_time": "2022-09-08T14:47:57.694393",
     "exception": false,
     "start_time": "2022-09-08T14:47:57.675468",
     "status": "completed"
    },
    "tags": []
   },
   "outputs": [
    {
     "data": {
      "text/plain": [
       "array([[[0.08886192],\n",
       "        [0.10045847],\n",
       "        [0.09768454],\n",
       "        ...,\n",
       "        [0.03806442],\n",
       "        [0.04646325],\n",
       "        [0.05245415]],\n",
       "\n",
       "       [[0.10045847],\n",
       "        [0.09768454],\n",
       "        [0.0948143 ],\n",
       "        ...,\n",
       "        [0.04646325],\n",
       "        [0.05245415],\n",
       "        [0.05399522]],\n",
       "\n",
       "       [[0.09768454],\n",
       "        [0.0948143 ],\n",
       "        [0.08267838],\n",
       "        ...,\n",
       "        [0.05245415],\n",
       "        [0.05399522],\n",
       "        [0.05811758]],\n",
       "\n",
       "       ...,\n",
       "\n",
       "       [[0.9528818 ],\n",
       "        [0.96871629],\n",
       "        [0.96698259],\n",
       "        ...,\n",
       "        [0.97210664],\n",
       "        [0.96721375],\n",
       "        [0.96804207]],\n",
       "\n",
       "       [[0.96871629],\n",
       "        [0.96698259],\n",
       "        [0.97208738],\n",
       "        ...,\n",
       "        [0.96721375],\n",
       "        [0.96804207],\n",
       "        [0.96447835]],\n",
       "\n",
       "       [[0.96698259],\n",
       "        [0.97208738],\n",
       "        [0.9744953 ],\n",
       "        ...,\n",
       "        [0.96804207],\n",
       "        [0.96447835],\n",
       "        [0.97998536]]])"
      ]
     },
     "execution_count": 14,
     "metadata": {},
     "output_type": "execute_result"
    }
   ],
   "source": [
    "X_train"
   ]
  },
  {
   "cell_type": "code",
   "execution_count": 15,
   "id": "e93a9d6a",
   "metadata": {
    "execution": {
     "iopub.execute_input": "2022-09-08T14:47:57.715817Z",
     "iopub.status.busy": "2022-09-08T14:47:57.715325Z",
     "iopub.status.idle": "2022-09-08T14:47:57.722813Z",
     "shell.execute_reply": "2022-09-08T14:47:57.721691Z"
    },
    "papermill": {
     "duration": 0.020761,
     "end_time": "2022-09-08T14:47:57.725055",
     "exception": false,
     "start_time": "2022-09-08T14:47:57.704294",
     "status": "completed"
    },
    "tags": []
   },
   "outputs": [
    {
     "data": {
      "text/plain": [
       "array([0.05399522, 0.05811758, 0.06025582, ..., 0.96447835, 0.97998536,\n",
       "       1.        ])"
      ]
     },
     "execution_count": 15,
     "metadata": {},
     "output_type": "execute_result"
    }
   ],
   "source": [
    "Y_train"
   ]
  },
  {
   "cell_type": "markdown",
   "id": "5eb552c0",
   "metadata": {
    "papermill": {
     "duration": 0.009425,
     "end_time": "2022-09-08T14:47:57.744365",
     "exception": false,
     "start_time": "2022-09-08T14:47:57.734940",
     "status": "completed"
    },
    "tags": []
   },
   "source": [
    "### Create And Training RNN model "
   ]
  },
  {
   "cell_type": "code",
   "execution_count": 16,
   "id": "45c41adf",
   "metadata": {
    "execution": {
     "iopub.execute_input": "2022-09-08T14:47:57.766395Z",
     "iopub.status.busy": "2022-09-08T14:47:57.765229Z",
     "iopub.status.idle": "2022-09-08T14:55:28.991405Z",
     "shell.execute_reply": "2022-09-08T14:55:28.990324Z"
    },
    "papermill": {
     "duration": 451.239085,
     "end_time": "2022-09-08T14:55:28.993181",
     "exception": false,
     "start_time": "2022-09-08T14:47:57.754096",
     "status": "completed"
    },
    "tags": []
   },
   "outputs": [
    {
     "name": "stdout",
     "output_type": "stream",
     "text": [
      "Epoch 1/100\n",
      "37/37 [==============================] - 4s 31ms/step - loss: 0.5530\n",
      "Epoch 2/100\n",
      "37/37 [==============================] - 1s 31ms/step - loss: 0.2941\n",
      "Epoch 3/100\n",
      "37/37 [==============================] - 1s 30ms/step - loss: 0.2156\n",
      "Epoch 4/100\n",
      "37/37 [==============================] - 1s 31ms/step - loss: 0.1494\n",
      "Epoch 5/100\n",
      "37/37 [==============================] - 1s 30ms/step - loss: 0.1261\n",
      "Epoch 6/100\n",
      "37/37 [==============================] - 1s 30ms/step - loss: 0.0975\n",
      "Epoch 7/100\n",
      "37/37 [==============================] - 1s 30ms/step - loss: 0.0818\n",
      "Epoch 8/100\n",
      "37/37 [==============================] - 1s 30ms/step - loss: 0.0755\n",
      "Epoch 9/100\n",
      "37/37 [==============================] - 1s 31ms/step - loss: 0.0628\n",
      "Epoch 10/100\n",
      "37/37 [==============================] - 1s 31ms/step - loss: 0.0513\n",
      "Epoch 11/100\n",
      "37/37 [==============================] - 1s 31ms/step - loss: 0.0515\n",
      "Epoch 12/100\n",
      "37/37 [==============================] - 1s 30ms/step - loss: 0.0473\n",
      "Epoch 13/100\n",
      "37/37 [==============================] - 1s 30ms/step - loss: 0.0396\n",
      "Epoch 14/100\n",
      "37/37 [==============================] - 1s 30ms/step - loss: 0.0402\n",
      "Epoch 15/100\n",
      "37/37 [==============================] - 1s 29ms/step - loss: 0.0346\n",
      "Epoch 16/100\n",
      "37/37 [==============================] - 1s 30ms/step - loss: 0.0281\n",
      "Epoch 17/100\n",
      "37/37 [==============================] - 1s 30ms/step - loss: 0.0290\n",
      "Epoch 18/100\n",
      "37/37 [==============================] - 1s 30ms/step - loss: 0.0256\n",
      "Epoch 19/100\n",
      "37/37 [==============================] - 1s 30ms/step - loss: 0.0215\n",
      "Epoch 20/100\n",
      "37/37 [==============================] - 1s 30ms/step - loss: 0.0218\n",
      "Epoch 21/100\n",
      "37/37 [==============================] - 1s 30ms/step - loss: 0.0202\n",
      "Epoch 22/100\n",
      "37/37 [==============================] - 1s 30ms/step - loss: 0.0177\n",
      "Epoch 23/100\n",
      "37/37 [==============================] - 1s 30ms/step - loss: 0.0167\n",
      "Epoch 24/100\n",
      "37/37 [==============================] - 1s 30ms/step - loss: 0.0174\n",
      "Epoch 25/100\n",
      "37/37 [==============================] - 1s 33ms/step - loss: 0.0169\n",
      "Epoch 26/100\n",
      "37/37 [==============================] - 1s 32ms/step - loss: 0.0155\n",
      "Epoch 27/100\n",
      "37/37 [==============================] - 1s 32ms/step - loss: 0.0133\n",
      "Epoch 28/100\n",
      "37/37 [==============================] - 1s 31ms/step - loss: 0.0133\n",
      "Epoch 29/100\n",
      "37/37 [==============================] - 1s 30ms/step - loss: 0.0130\n",
      "Epoch 30/100\n",
      "37/37 [==============================] - 1s 30ms/step - loss: 0.0122\n",
      "Epoch 31/100\n",
      "37/37 [==============================] - 1s 30ms/step - loss: 0.0115\n",
      "Epoch 32/100\n",
      "37/37 [==============================] - 1s 31ms/step - loss: 0.0110\n",
      "Epoch 33/100\n",
      "37/37 [==============================] - 1s 30ms/step - loss: 0.0104\n",
      "Epoch 34/100\n",
      "37/37 [==============================] - 1s 30ms/step - loss: 0.0093\n",
      "Epoch 35/100\n",
      "37/37 [==============================] - 1s 29ms/step - loss: 0.0089\n",
      "Epoch 36/100\n",
      "37/37 [==============================] - 1s 37ms/step - loss: 0.0093\n",
      "Epoch 37/100\n",
      "37/37 [==============================] - 1s 31ms/step - loss: 0.0094\n",
      "Epoch 38/100\n",
      "37/37 [==============================] - 1s 32ms/step - loss: 0.0086\n",
      "Epoch 39/100\n",
      "37/37 [==============================] - 1s 30ms/step - loss: 0.0081\n",
      "Epoch 40/100\n",
      "37/37 [==============================] - 1s 30ms/step - loss: 0.0086\n",
      "Epoch 41/100\n",
      "37/37 [==============================] - 1s 32ms/step - loss: 0.0071\n",
      "Epoch 42/100\n",
      "37/37 [==============================] - 1s 31ms/step - loss: 0.0072\n",
      "Epoch 43/100\n",
      "37/37 [==============================] - 1s 30ms/step - loss: 0.0072\n",
      "Epoch 44/100\n",
      "37/37 [==============================] - 1s 31ms/step - loss: 0.0063\n",
      "Epoch 45/100\n",
      "37/37 [==============================] - 1s 30ms/step - loss: 0.0064\n",
      "Epoch 46/100\n",
      "37/37 [==============================] - 1s 30ms/step - loss: 0.0062\n",
      "Epoch 47/100\n",
      "37/37 [==============================] - 1s 31ms/step - loss: 0.0059\n",
      "Epoch 48/100\n",
      "37/37 [==============================] - 1s 33ms/step - loss: 0.0060\n",
      "Epoch 49/100\n",
      "37/37 [==============================] - 1s 31ms/step - loss: 0.0057\n",
      "Epoch 50/100\n",
      "37/37 [==============================] - 1s 33ms/step - loss: 0.0060\n",
      "Epoch 51/100\n",
      "37/37 [==============================] - 1s 33ms/step - loss: 0.0056\n",
      "Epoch 52/100\n",
      "37/37 [==============================] - 1s 37ms/step - loss: 0.0050\n",
      "Epoch 53/100\n",
      "37/37 [==============================] - 1s 30ms/step - loss: 0.0054\n",
      "Epoch 54/100\n",
      "37/37 [==============================] - 1s 33ms/step - loss: 0.0049\n",
      "Epoch 55/100\n",
      "37/37 [==============================] - 1s 30ms/step - loss: 0.0047\n",
      "Epoch 56/100\n",
      "37/37 [==============================] - 1s 30ms/step - loss: 0.0050\n",
      "Epoch 57/100\n",
      "37/37 [==============================] - 1s 29ms/step - loss: 0.0048\n",
      "Epoch 58/100\n",
      "37/37 [==============================] - 1s 31ms/step - loss: 0.0045\n",
      "Epoch 59/100\n",
      "37/37 [==============================] - 1s 32ms/step - loss: 0.0049\n",
      "Epoch 60/100\n",
      "37/37 [==============================] - 1s 30ms/step - loss: 0.0045\n",
      "Epoch 61/100\n",
      "37/37 [==============================] - 1s 29ms/step - loss: 0.0043\n",
      "Epoch 62/100\n",
      "37/37 [==============================] - 1s 31ms/step - loss: 0.0040\n",
      "Epoch 63/100\n",
      "37/37 [==============================] - 1s 31ms/step - loss: 0.0043\n",
      "Epoch 64/100\n",
      "37/37 [==============================] - 1s 29ms/step - loss: 0.0037\n",
      "Epoch 65/100\n",
      "37/37 [==============================] - 1s 29ms/step - loss: 0.0045\n",
      "Epoch 66/100\n",
      "37/37 [==============================] - 1s 29ms/step - loss: 0.0040\n",
      "Epoch 67/100\n",
      "37/37 [==============================] - 1s 30ms/step - loss: 0.0041\n",
      "Epoch 68/100\n",
      "37/37 [==============================] - 1s 30ms/step - loss: 0.0035\n",
      "Epoch 69/100\n",
      "37/37 [==============================] - 1s 30ms/step - loss: 0.0042\n",
      "Epoch 70/100\n",
      "37/37 [==============================] - 1s 31ms/step - loss: 0.0038\n",
      "Epoch 71/100\n",
      "37/37 [==============================] - 1s 37ms/step - loss: 0.0036\n",
      "Epoch 72/100\n",
      "37/37 [==============================] - 1s 31ms/step - loss: 0.0039\n",
      "Epoch 73/100\n",
      "37/37 [==============================] - 1s 31ms/step - loss: 0.0035\n",
      "Epoch 74/100\n",
      "37/37 [==============================] - 1s 32ms/step - loss: 0.0035\n",
      "Epoch 75/100\n",
      "37/37 [==============================] - 1s 32ms/step - loss: 0.0028\n",
      "Epoch 76/100\n",
      "37/37 [==============================] - 1s 32ms/step - loss: 0.0038\n",
      "Epoch 77/100\n",
      "37/37 [==============================] - 1s 36ms/step - loss: 0.0032\n",
      "Epoch 78/100\n",
      "37/37 [==============================] - 1s 32ms/step - loss: 0.0030\n",
      "Epoch 79/100\n",
      "37/37 [==============================] - 1s 33ms/step - loss: 0.0034\n",
      "Epoch 80/100\n",
      "37/37 [==============================] - 1s 32ms/step - loss: 0.0036\n",
      "Epoch 81/100\n",
      "37/37 [==============================] - 1s 31ms/step - loss: 0.0029\n",
      "Epoch 82/100\n",
      "37/37 [==============================] - 1s 30ms/step - loss: 0.0032\n",
      "Epoch 83/100\n",
      "37/37 [==============================] - 1s 33ms/step - loss: 0.0030\n",
      "Epoch 84/100\n",
      "37/37 [==============================] - 1s 31ms/step - loss: 0.0031\n",
      "Epoch 85/100\n",
      "37/37 [==============================] - 1s 32ms/step - loss: 0.0028\n",
      "Epoch 86/100\n",
      "37/37 [==============================] - 1s 36ms/step - loss: 0.0029\n",
      "Epoch 87/100\n",
      "37/37 [==============================] - 1s 32ms/step - loss: 0.0029\n",
      "Epoch 88/100\n",
      "37/37 [==============================] - 1s 33ms/step - loss: 0.0027\n",
      "Epoch 89/100\n",
      "37/37 [==============================] - 1s 33ms/step - loss: 0.0029\n",
      "Epoch 90/100\n",
      "37/37 [==============================] - 1s 31ms/step - loss: 0.0026\n",
      "Epoch 91/100\n",
      "37/37 [==============================] - 1s 32ms/step - loss: 0.0025\n",
      "Epoch 92/100\n",
      "37/37 [==============================] - 1s 31ms/step - loss: 0.0028\n",
      "Epoch 93/100\n",
      "37/37 [==============================] - 1s 31ms/step - loss: 0.0026\n",
      "Epoch 94/100\n",
      "37/37 [==============================] - 1s 31ms/step - loss: 0.0027\n",
      "Epoch 95/100\n",
      "37/37 [==============================] - 1s 31ms/step - loss: 0.0025\n",
      "Epoch 96/100\n",
      "37/37 [==============================] - 1s 31ms/step - loss: 0.0023\n",
      "Epoch 97/100\n",
      "37/37 [==============================] - 1s 31ms/step - loss: 0.0027\n",
      "Epoch 98/100\n",
      "37/37 [==============================] - 1s 31ms/step - loss: 0.0025\n",
      "Epoch 99/100\n",
      "37/37 [==============================] - 1s 32ms/step - loss: 0.0025\n",
      "Epoch 100/100\n",
      "37/37 [==============================] - 1s 32ms/step - loss: 0.0025\n"
     ]
    },
    {
     "data": {
      "text/plain": [
       "<keras.callbacks.History at 0x159c4da1910>"
      ]
     },
     "execution_count": 16,
     "metadata": {},
     "output_type": "execute_result"
    }
   ],
   "source": [
    "# Import Library \n",
    "from keras.models import Sequential\n",
    "from keras.layers import Dense, SimpleRNN, Dropout\n",
    "\n",
    "# Initialising the RNN\n",
    "regressor = Sequential()\n",
    "\n",
    "# Add the first RNN layer and some Dropout regularisation\n",
    "regressor.add(SimpleRNN(units = 50, activation = \"tanh\", return_sequences = True, input_shape = (X_train.shape[1], 1)))\n",
    "regressor.add(Dropout(0.2))\n",
    "\n",
    "# Second RNN layer and some Dropout regularisation\n",
    "regressor.add(SimpleRNN(units = 50, activation = \"tanh\", return_sequences = True))\n",
    "regressor.add(Dropout(0.2))\n",
    "\n",
    "# Third RNN layer and some Dropout regularisation\n",
    "regressor.add(SimpleRNN(units = 50, activation = \"tanh\", return_sequences = True))\n",
    "regressor.add(Dropout(0.2))\n",
    "\n",
    "# Fourth RNN layer and some Dropout regularisation\n",
    "regressor.add(SimpleRNN(units = 50))\n",
    "regressor.add(Dropout(0.2))\n",
    "\n",
    "# Add the output layer\n",
    "regressor.add(Dense(units = 1))\n",
    "\n",
    "# Compiling the RNN\n",
    "regressor.compile(optimizer = \"adam\", loss = \"mean_squared_error\")\n",
    "\n",
    "# Fitting the RNN to the training set\n",
    "regressor.fit(X_train, Y_train, epochs = 100, batch_size = 32)"
   ]
  },
  {
   "cell_type": "markdown",
   "id": "182b899e",
   "metadata": {
    "papermill": {
     "duration": 0.202051,
     "end_time": "2022-09-08T14:55:29.397438",
     "exception": false,
     "start_time": "2022-09-08T14:55:29.195387",
     "status": "completed"
    },
    "tags": []
   },
   "source": [
    "### Predictions And Visualising RNN Model"
   ]
  },
  {
   "cell_type": "code",
   "execution_count": 17,
   "id": "05cb8ab5",
   "metadata": {
    "execution": {
     "iopub.execute_input": "2022-09-08T14:55:30.284097Z",
     "iopub.status.busy": "2022-09-08T14:55:30.282811Z",
     "iopub.status.idle": "2022-09-08T14:55:30.288596Z",
     "shell.execute_reply": "2022-09-08T14:55:30.287308Z"
    },
    "papermill": {
     "duration": 0.283901,
     "end_time": "2022-09-08T14:55:30.290538",
     "exception": false,
     "start_time": "2022-09-08T14:55:30.006637",
     "status": "completed"
    },
    "tags": []
   },
   "outputs": [],
   "source": [
    "inputs = data_set[len(data_set) - len(test) - timesteps:]\n",
    "inputs = scaler.transform(inputs)"
   ]
  },
  {
   "cell_type": "code",
   "execution_count": 18,
   "id": "e804db45",
   "metadata": {
    "execution": {
     "iopub.execute_input": "2022-09-08T14:55:30.677320Z",
     "iopub.status.busy": "2022-09-08T14:55:30.676568Z",
     "iopub.status.idle": "2022-09-08T14:55:31.234012Z",
     "shell.execute_reply": "2022-09-08T14:55:31.232715Z"
    },
    "papermill": {
     "duration": 0.748737,
     "end_time": "2022-09-08T14:55:31.236668",
     "exception": false,
     "start_time": "2022-09-08T14:55:30.487931",
     "status": "completed"
    },
    "tags": []
   },
   "outputs": [
    {
     "name": "stdout",
     "output_type": "stream",
     "text": [
      "2/2 [==============================] - 1s 10ms/step\n"
     ]
    }
   ],
   "source": [
    "X_test = []\n",
    "for i in range(timesteps, inputs.shape[0]):\n",
    "    X_test.append(inputs[i - timesteps:i, 0])\n",
    "    \n",
    "X_test_rnn = np.array(X_test)\n",
    "X_test_rnn = np.reshape(X_test_rnn, (X_test_rnn.shape[0], X_test_rnn.shape[1], 1))\n",
    "predicted_stock_price = regressor.predict(X_test_rnn)\n",
    "predicted_stock_price = scaler.inverse_transform(predicted_stock_price)"
   ]
  },
  {
   "cell_type": "markdown",
   "id": "57b66ae8",
   "metadata": {
    "papermill": {
     "duration": 0.201011,
     "end_time": "2022-09-08T14:55:31.639534",
     "exception": false,
     "start_time": "2022-09-08T14:55:31.438523",
     "status": "completed"
    },
    "tags": []
   },
   "source": [
    "I visualize the training result of the test dataset."
   ]
  },
  {
   "cell_type": "code",
   "execution_count": 19,
   "id": "4e4ac081",
   "metadata": {
    "execution": {
     "iopub.execute_input": "2022-09-08T14:55:32.046133Z",
     "iopub.status.busy": "2022-09-08T14:55:32.045831Z",
     "iopub.status.idle": "2022-09-08T14:55:32.210265Z",
     "shell.execute_reply": "2022-09-08T14:55:32.209253Z"
    },
    "papermill": {
     "duration": 0.36938,
     "end_time": "2022-09-08T14:55:32.212064",
     "exception": false,
     "start_time": "2022-09-08T14:55:31.842684",
     "status": "completed"
    },
    "tags": []
   },
   "outputs": [
    {
     "data": {
      "image/png": "[encoded data removed]",
      "text/plain": [
       "<Figure size 432x288 with 1 Axes>"
      ]
     },
     "metadata": {
      "needs_background": "light"
     },
     "output_type": "display_data"
    }
   ],
   "source": [
    "# visualising the results\n",
    "plt.plot(test, color = \"red\", label = \"Real Google Stock Price\")\n",
    "plt.plot(predicted_stock_price, color = \"blue\", label = \"Predicted Google Stock Price\")\n",
    "plt.title(\"Google Stock Price Prediction\")\n",
    "plt.xlabel(\"Time\")\n",
    "plt.ylabel(\"Google Stock Price\")\n",
    "plt.legend()\n",
    "plt.show()"
   ]
  }
 ],
 "metadata": {
  "kernelspec": {
   "display_name": "Python 3",
   "language": "python",
   "name": "python3"
  },
  "language_info": {
   "codemirror_mode": {
    "name": "ipython",
    "version": 3
   },
   "file_extension": ".py",
   "mimetype": "text/x-python",
   "name": "python",
   "nbconvert_exporter": "python",
   "pygments_lexer": "ipython3",
   "version": "3.8.8"
  },
  "papermill": {
   "default_parameters": {},
   "duration": 571.368981,
   "end_time": "2022-09-08T14:57:19.481461",
   "environment_variables": {},
   "exception": null,
   "input_path": "__notebook__.ipynb",
   "output_path": "__notebook__.ipynb",
   "parameters": {},
   "start_time": "2022-09-08T14:47:48.112480",
   "version": "2.3.4"
  }
 },
 "nbformat": 4,
 "nbformat_minor": 5
}
